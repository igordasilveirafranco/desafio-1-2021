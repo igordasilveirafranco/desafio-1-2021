{
 "cells": [
  {
   "cell_type": "markdown",
   "metadata": {
    "collapsed": true
   },
   "source": [
    "# Desafio 1 - Maratona Behind the Code 2021\n",
    "\n",
    "### Notebook guia\n",
    "\n",
    "Esse Jupyter Notebook te dará instruções para criar uma solução introdutória para o desafio 1 da Maratona. Sinta-se livre para editar e melhorar sua solução!\n"
   ]
  },
  {
   "cell_type": "code",
   "execution_count": 2,
   "metadata": {},
   "outputs": [
    {
     "name": "stdout",
     "output_type": "stream",
     "text": [
      "Requirement already satisfied: imblearn in c:\\users\\a362014\\appdata\\local\\packages\\pythonsoftwarefoundation.python.3.9_qbz5n2kfra8p0\\localcache\\local-packages\\python39\\site-packages (0.0)\n",
      "Requirement already satisfied: imbalanced-learn in c:\\users\\a362014\\appdata\\local\\packages\\pythonsoftwarefoundation.python.3.9_qbz5n2kfra8p0\\localcache\\local-packages\\python39\\site-packages (from imblearn) (0.8.1)\n",
      "Requirement already satisfied: joblib>=0.11 in c:\\users\\a362014\\appdata\\local\\packages\\pythonsoftwarefoundation.python.3.9_qbz5n2kfra8p0\\localcache\\local-packages\\python39\\site-packages (from imbalanced-learn->imblearn) (1.1.0)\n",
      "Requirement already satisfied: scipy>=0.19.1 in c:\\users\\a362014\\appdata\\local\\packages\\pythonsoftwarefoundation.python.3.9_qbz5n2kfra8p0\\localcache\\local-packages\\python39\\site-packages (from imbalanced-learn->imblearn) (1.7.2)\n",
      "Requirement already satisfied: numpy>=1.13.3 in c:\\users\\a362014\\appdata\\local\\packages\\pythonsoftwarefoundation.python.3.9_qbz5n2kfra8p0\\localcache\\local-packages\\python39\\site-packages (from imbalanced-learn->imblearn) (1.21.3)\n",
      "Requirement already satisfied: scikit-learn>=0.24 in c:\\users\\a362014\\appdata\\local\\packages\\pythonsoftwarefoundation.python.3.9_qbz5n2kfra8p0\\localcache\\local-packages\\python39\\site-packages (from imbalanced-learn->imblearn) (1.0.1)\n",
      "Requirement already satisfied: threadpoolctl>=2.0.0 in c:\\users\\a362014\\appdata\\local\\packages\\pythonsoftwarefoundation.python.3.9_qbz5n2kfra8p0\\localcache\\local-packages\\python39\\site-packages (from scikit-learn>=0.24->imbalanced-learn->imblearn) (3.0.0)\n"
     ]
    }
   ],
   "source": [
    "!pip install imblearn"
   ]
  },
  {
   "cell_type": "markdown",
   "metadata": {},
   "source": [
    "## Exploração do dataset\n",
    "\n",
    "O primeiro passo para o desenvolvimento de um bom modelo de Machine Learning é explorar bem os dados que temos para trabalhar. Devemos entender o melhor possível a relevância de cada dado para o valor que queremos predizer. Afinal, a predição do modelo é inteiramente baseada nos dados com que treinou.\n",
    "\n",
    "Existem muitas bibliotecas em Python que podem ser utilizadas para tratamento e visualização de dados. Nesses exemplos, vamos usar Pandas, Seaborn e Matplotlib."
   ]
  },
  {
   "cell_type": "code",
   "execution_count": 3,
   "metadata": {},
   "outputs": [],
   "source": [
    "import pandas as pd\n",
    "import matplotlib.pyplot as plt\n",
    "import seaborn as sns\n",
    "import numpy as np"
   ]
  },
  {
   "cell_type": "code",
   "execution_count": 4,
   "metadata": {
    "scrolled": true
   },
   "outputs": [],
   "source": [
    "# Carregue aqui o dataset\n",
    "loans = pd.read_csv(\"..\\data\\loans.csv\")\n",
    "demogra = pd.read_csv(\"..\\data\\Demographics.csv\")\n",
    "accounts = pd.read_csv(\"..\\data\\Accounts.csv\")"
   ]
  },
  {
   "cell_type": "markdown",
   "metadata": {},
   "source": [
    "Podemos usar os métodos `.info()` e `.describe()` para obter informações básicas sobre quantidade presente dos dados, tipos e valores deles."
   ]
  },
  {
   "cell_type": "code",
   "execution_count": 5,
   "metadata": {},
   "outputs": [
    {
     "name": "stdout",
     "output_type": "stream",
     "text": [
      "<class 'pandas.core.frame.DataFrame'>\n",
      "RangeIndex: 3999 entries, 0 to 3998\n",
      "Data columns (total 8 columns):\n",
      " #   Column               Non-Null Count  Dtype  \n",
      "---  ------               --------------  -----  \n",
      " 0   ID                   3999 non-null   int64  \n",
      " 1   PAYMENT_TERM         3975 non-null   float64\n",
      " 2   INSTALLMENT_PLANS    3978 non-null   object \n",
      " 3   INSTALLMENT_PERCENT  3974 non-null   float64\n",
      " 4   LOAN_PURPOSE         3979 non-null   object \n",
      " 5   LOAN_AMOUNT          3981 non-null   float64\n",
      " 6   OTHERS_ON_LOAN       3977 non-null   object \n",
      " 7   ALLOW                3999 non-null   int64  \n",
      "dtypes: float64(3), int64(2), object(3)\n",
      "memory usage: 250.1+ KB\n"
     ]
    }
   ],
   "source": [
    "loans.info()"
   ]
  },
  {
   "cell_type": "code",
   "execution_count": 6,
   "metadata": {},
   "outputs": [
    {
     "data": {
      "text/html": [
       "<div>\n",
       "<style scoped>\n",
       "    .dataframe tbody tr th:only-of-type {\n",
       "        vertical-align: middle;\n",
       "    }\n",
       "\n",
       "    .dataframe tbody tr th {\n",
       "        vertical-align: top;\n",
       "    }\n",
       "\n",
       "    .dataframe thead th {\n",
       "        text-align: right;\n",
       "    }\n",
       "</style>\n",
       "<table border=\"1\" class=\"dataframe\">\n",
       "  <thead>\n",
       "    <tr style=\"text-align: right;\">\n",
       "      <th></th>\n",
       "      <th>ID</th>\n",
       "      <th>PAYMENT_TERM</th>\n",
       "      <th>INSTALLMENT_PERCENT</th>\n",
       "      <th>LOAN_AMOUNT</th>\n",
       "      <th>ALLOW</th>\n",
       "    </tr>\n",
       "  </thead>\n",
       "  <tbody>\n",
       "    <tr>\n",
       "      <th>count</th>\n",
       "      <td>3.999000e+03</td>\n",
       "      <td>3975.000000</td>\n",
       "      <td>3974.000000</td>\n",
       "      <td>3981.000000</td>\n",
       "      <td>3999.000000</td>\n",
       "    </tr>\n",
       "    <tr>\n",
       "      <th>mean</th>\n",
       "      <td>6.603562e+05</td>\n",
       "      <td>653.796981</td>\n",
       "      <td>2.981379</td>\n",
       "      <td>3479.168802</td>\n",
       "      <td>0.664166</td>\n",
       "    </tr>\n",
       "    <tr>\n",
       "      <th>std</th>\n",
       "      <td>3.728332e+05</td>\n",
       "      <td>338.723239</td>\n",
       "      <td>1.121448</td>\n",
       "      <td>2489.961917</td>\n",
       "      <td>0.472340</td>\n",
       "    </tr>\n",
       "    <tr>\n",
       "      <th>min</th>\n",
       "      <td>9.800000e+01</td>\n",
       "      <td>120.000000</td>\n",
       "      <td>1.000000</td>\n",
       "      <td>250.000000</td>\n",
       "      <td>0.000000</td>\n",
       "    </tr>\n",
       "    <tr>\n",
       "      <th>25%</th>\n",
       "      <td>3.418460e+05</td>\n",
       "      <td>390.000000</td>\n",
       "      <td>2.000000</td>\n",
       "      <td>1330.000000</td>\n",
       "      <td>0.000000</td>\n",
       "    </tr>\n",
       "    <tr>\n",
       "      <th>50%</th>\n",
       "      <td>6.670610e+05</td>\n",
       "      <td>651.000000</td>\n",
       "      <td>3.000000</td>\n",
       "      <td>3237.000000</td>\n",
       "      <td>1.000000</td>\n",
       "    </tr>\n",
       "    <tr>\n",
       "      <th>75%</th>\n",
       "      <td>9.778745e+05</td>\n",
       "      <td>899.000000</td>\n",
       "      <td>4.000000</td>\n",
       "      <td>5334.000000</td>\n",
       "      <td>1.000000</td>\n",
       "    </tr>\n",
       "    <tr>\n",
       "      <th>max</th>\n",
       "      <td>1.320082e+06</td>\n",
       "      <td>1984.000000</td>\n",
       "      <td>6.000000</td>\n",
       "      <td>11676.000000</td>\n",
       "      <td>1.000000</td>\n",
       "    </tr>\n",
       "  </tbody>\n",
       "</table>\n",
       "</div>"
      ],
      "text/plain": [
       "                 ID  PAYMENT_TERM  INSTALLMENT_PERCENT   LOAN_AMOUNT  \\\n",
       "count  3.999000e+03   3975.000000          3974.000000   3981.000000   \n",
       "mean   6.603562e+05    653.796981             2.981379   3479.168802   \n",
       "std    3.728332e+05    338.723239             1.121448   2489.961917   \n",
       "min    9.800000e+01    120.000000             1.000000    250.000000   \n",
       "25%    3.418460e+05    390.000000             2.000000   1330.000000   \n",
       "50%    6.670610e+05    651.000000             3.000000   3237.000000   \n",
       "75%    9.778745e+05    899.000000             4.000000   5334.000000   \n",
       "max    1.320082e+06   1984.000000             6.000000  11676.000000   \n",
       "\n",
       "             ALLOW  \n",
       "count  3999.000000  \n",
       "mean      0.664166  \n",
       "std       0.472340  \n",
       "min       0.000000  \n",
       "25%       0.000000  \n",
       "50%       1.000000  \n",
       "75%       1.000000  \n",
       "max       1.000000  "
      ]
     },
     "execution_count": 6,
     "metadata": {},
     "output_type": "execute_result"
    }
   ],
   "source": [
    "loans.describe()"
   ]
  },
  {
   "cell_type": "markdown",
   "metadata": {},
   "source": [
    "A variável destino para este desafio é a `ALLOW`, significando se um empréstimo deverá ser permitido ou não, baseado nas informações dadas. Vamos dar uma olhada em como está a distribuição dessa variável"
   ]
  },
  {
   "cell_type": "code",
   "execution_count": 7,
   "metadata": {},
   "outputs": [
    {
     "data": {
      "image/png": "[encoded data removed]",
      "text/plain": [
       "<Figure size 432x288 with 1 Axes>"
      ]
     },
     "metadata": {
      "needs_background": "light"
     },
     "output_type": "display_data"
    }
   ],
   "source": [
    "risk_plot = sns.countplot(data=loans, x='ALLOW', order=loans['ALLOW'].value_counts().index)\n",
    "plt.show()"
   ]
  },
  {
   "cell_type": "markdown",
   "metadata": {},
   "source": [
    "Sinta-se livre para ver a distribuição de outras colunas do conjunto de dados, utilizar os outros conjuntos de dados, explorar as correlações entre variáveis e outros."
   ]
  },
  {
   "cell_type": "code",
   "execution_count": 8,
   "metadata": {},
   "outputs": [],
   "source": [
    "# Adicione suas explorações"
   ]
  },
  {
   "cell_type": "code",
   "execution_count": 9,
   "metadata": {},
   "outputs": [],
   "source": [
    "lo_de = loans.merge(demogra)"
   ]
  },
  {
   "cell_type": "code",
   "execution_count": 10,
   "metadata": {},
   "outputs": [],
   "source": [
    "# lo_de_ac.to_csv(\"consolidado.csv\", header=True)"
   ]
  },
  {
   "cell_type": "code",
   "execution_count": 11,
   "metadata": {},
   "outputs": [],
   "source": [
    "lo_de_ac = lo_de.merge(accounts, on='ID', how='left')"
   ]
  },
  {
   "cell_type": "code",
   "execution_count": 12,
   "metadata": {},
   "outputs": [
    {
     "data": {
      "text/plain": [
       "ID                            3936\n",
       "PAYMENT_TERM                  3912\n",
       "INSTALLMENT_PLANS             3915\n",
       "INSTALLMENT_PERCENT           3911\n",
       "LOAN_PURPOSE                  3917\n",
       "LOAN_AMOUNT                   3918\n",
       "OTHERS_ON_LOAN                3914\n",
       "ALLOW                         3936\n",
       "SEX                           3920\n",
       "AGE                           3918\n",
       "JOB_TYPE                      3910\n",
       "DEPENDENTS                    3915\n",
       "TELEPHONE                     3915\n",
       "FOREIGN_WORKER                3909\n",
       "EMPLOYMENT_DURATION           3923\n",
       "PROPERTY                      3918\n",
       "HOUSING                       3912\n",
       "CURRENT_RESIDENCE_DURATION    3917\n",
       "CHECKING_BALANCE              2467\n",
       "CREDIT_HISTORY                2462\n",
       "EXISTING_SAVINGS              2467\n",
       "EXISTING_CREDITS_COUNT        2463\n",
       "dtype: int64"
      ]
     },
     "execution_count": 12,
     "metadata": {},
     "output_type": "execute_result"
    }
   ],
   "source": [
    "lo_de_ac.count()"
   ]
  },
  {
   "cell_type": "markdown",
   "metadata": {},
   "source": [
    "## Tratamento dos dados"
   ]
  },
  {
   "cell_type": "markdown",
   "metadata": {},
   "source": [
    "Uma vez que exploramos os dados, entendemos a importância de cada coluna e podemos fazer alterações nelas para para obter um melhor resultado. Aqui, vamos fazer apenas um tratamento simples, de remover do dataset as linhas que tiverem faltando algum valor. Não necessariamente essa técnica é a melhor para se utilizar no desafio, é apenas um exemplo de como tratar o dataset.\n",
    "\n",
    "Para tratamentos mais avançados, como modificação de colunas ou criação de novas colunas, veja mais abaixo no Notebook, em que explicamos como utilizar as `Pipelines`, da biblioteca `sklearn`, para realizar transformações nos dados."
   ]
  },
  {
   "cell_type": "code",
   "execution_count": 13,
   "metadata": {},
   "outputs": [],
   "source": [
    "clean_df = lo_de_ac.copy()"
   ]
  },
  {
   "cell_type": "code",
   "execution_count": 14,
   "metadata": {},
   "outputs": [],
   "source": [
    "clean_df['PAYMENT_TERM_n'] = clean_df.PAYMENT_TERM.fillna(clean_df.PAYMENT_TERM.mean())\n",
    "clean_df['INSTALLMENT_PLANS_n'] = clean_df.INSTALLMENT_PLANS.fillna(\"NONE\")\n",
    "clean_df['INSTALLMENT_PERCENT_n'] = clean_df.INSTALLMENT_PERCENT.fillna(clean_df.INSTALLMENT_PERCENT.median())\n",
    "clean_df['LOAN_PURPOSE_n'] = clean_df.LOAN_PURPOSE.fillna(\"NONE\")\n",
    "clean_df['LOAN_AMOUNT_n'] = clean_df.LOAN_AMOUNT.fillna(clean_df.LOAN_AMOUNT.median())\n",
    "clean_df['OTHERS_ON_LOAN_n'] = clean_df.OTHERS_ON_LOAN.fillna(\"NONE\")\n",
    "clean_df.dropna(subset=['SEX'], inplace=True)\n",
    "clean_df['AGE_n'] = clean_df.AGE.fillna(clean_df.AGE.mean())\n",
    "clean_df['JOB_TYPE_n'] = clean_df.JOB_TYPE.fillna(clean_df.JOB_TYPE.median())\n",
    "clean_df['DEPENDENTS_n'] = clean_df.DEPENDENTS.fillna(\"0\").astype('int64')\n",
    "clean_df['TELEPHONE_n'] = clean_df.TELEPHONE.fillna(\"0\").astype('int64')\n",
    "clean_df['FOREIGN_WORKER_n'] = clean_df.FOREIGN_WORKER.fillna(\"0\").astype('int64')\n",
    "clean_df['EMPLOYMENT_DURATION_n'] = clean_df.EMPLOYMENT_DURATION.fillna(\"0\").astype('int64')\n",
    "clean_df['PROPERTY_n'] = clean_df.PROPERTY.fillna(\"UNKNOWN\")\n",
    "clean_df['HOUSING_n'] = clean_df.HOUSING.fillna(\"UNKNOWN\")\n",
    "clean_df['CURRENT_RESIDENCE_DURATION_n'] = clean_df.CURRENT_RESIDENCE_DURATION.fillna(clean_df.CURRENT_RESIDENCE_DURATION.mean())"
   ]
  },
  {
   "cell_type": "code",
   "execution_count": 15,
   "metadata": {},
   "outputs": [],
   "source": [
    "clean_df['CHECKING_BALANCE_n'] = clean_df.CHECKING_BALANCE.apply(lambda x: 0 if x == 'NO_CHECKING' else x )\n",
    "clean_df['CHECKING_BALANCE_n'] = clean_df.CHECKING_BALANCE_n.fillna(clean_df.CHECKING_BALANCE_n.astype('float').mean())\n",
    "clean_df['CHECKING_BALANCE_n2'] = clean_df.CHECKING_BALANCE_n.astype('float')\n",
    "clean_df['CREDIT_HISTORY_n'] = clean_df.CREDIT_HISTORY.fillna(\"UNKNOWN\")\n",
    "clean_df['EXISTING_SAVINGS_n'] = clean_df.EXISTING_SAVINGS.apply(lambda x: -1 if x == 'UNKNOWN' else x )\n",
    "clean_df['EXISTING_SAVINGS_n'] = clean_df.EXISTING_SAVINGS_n.fillna(-1).astype('float')\n",
    "clean_df['EXISTING_CREDITS_COUNT_n'] = clean_df.EXISTING_CREDITS_COUNT.fillna(-1).astype('float')"
   ]
  },
  {
   "cell_type": "code",
   "execution_count": 16,
   "metadata": {},
   "outputs": [],
   "source": [
    "object_columns = ['PAYMENT_TERM','INSTALLMENT_PLANS', 'INSTALLMENT_PERCENT',\n",
    "       'LOAN_PURPOSE', 'LOAN_AMOUNT', 'OTHERS_ON_LOAN', 'AGE',\n",
    "       'JOB_TYPE', 'DEPENDENTS', 'TELEPHONE', 'FOREIGN_WORKER',\n",
    "       'EMPLOYMENT_DURATION', 'PROPERTY', 'HOUSING',\n",
    "       'CURRENT_RESIDENCE_DURATION', 'CHECKING_BALANCE','CHECKING_BALANCE_n','CREDIT_HISTORY','EXISTING_SAVINGS',\n",
    "       'EXISTING_CREDITS_COUNT']\n",
    "clean_df = clean_df.drop(object_columns, axis=1)\n",
    "clean_df = clean_df.drop('ID', axis=1)"
   ]
  },
  {
   "cell_type": "code",
   "execution_count": 17,
   "metadata": {},
   "outputs": [
    {
     "data": {
      "text/plain": [
       "Index(['ALLOW', 'SEX', 'PAYMENT_TERM_n', 'INSTALLMENT_PLANS_n',\n",
       "       'INSTALLMENT_PERCENT_n', 'LOAN_PURPOSE_n', 'LOAN_AMOUNT_n',\n",
       "       'OTHERS_ON_LOAN_n', 'AGE_n', 'JOB_TYPE_n', 'DEPENDENTS_n',\n",
       "       'TELEPHONE_n', 'FOREIGN_WORKER_n', 'EMPLOYMENT_DURATION_n',\n",
       "       'PROPERTY_n', 'HOUSING_n', 'CURRENT_RESIDENCE_DURATION_n',\n",
       "       'CHECKING_BALANCE_n2', 'CREDIT_HISTORY_n', 'EXISTING_SAVINGS_n',\n",
       "       'EXISTING_CREDITS_COUNT_n'],\n",
       "      dtype='object')"
      ]
     },
     "execution_count": 17,
     "metadata": {},
     "output_type": "execute_result"
    }
   ],
   "source": [
    "clean_df.columns"
   ]
  },
  {
   "cell_type": "markdown",
   "metadata": {},
   "source": [
    "Podemos observar que agora temos um dataset \"limpo\", mas perdemos alguns dados por remover as linhas em que pelo menos uma coluna estava faltando."
   ]
  },
  {
   "cell_type": "markdown",
   "metadata": {},
   "source": [
    "Observando a execução do método `.info()` acima, podemos ver que existem três colunas do tipo `object`. O modelo do `scikit-learn` que vamos usar não é capaz de processar uma variável desse tipo. Portanto, para dar seguimento ao experimento, vamos remover essa coluna. Recomendamos que você use alguma técnica para tratamento de variáveis categóricas, como o _one-hot encoding_, em vez de remover a coluna.\n",
    "\n",
    "Vamos também remover a coluna `ID`, pois sabemos que ela não é uma informação útil para a predição (é apenas um número identificando um cliente)."
   ]
  },
  {
   "cell_type": "markdown",
   "metadata": {},
   "source": [
    "### Usando One-Hot Encoding"
   ]
  },
  {
   "cell_type": "code",
   "execution_count": 18,
   "metadata": {},
   "outputs": [
    {
     "name": "stdout",
     "output_type": "stream",
     "text": [
      "<class 'pandas.core.frame.DataFrame'>\n",
      "Int64Index: 3920 entries, 0 to 3935\n",
      "Data columns (total 21 columns):\n",
      " #   Column                        Non-Null Count  Dtype  \n",
      "---  ------                        --------------  -----  \n",
      " 0   ALLOW                         3920 non-null   int64  \n",
      " 1   SEX                           3920 non-null   object \n",
      " 2   PAYMENT_TERM_n                3920 non-null   float64\n",
      " 3   INSTALLMENT_PLANS_n           3920 non-null   object \n",
      " 4   INSTALLMENT_PERCENT_n         3920 non-null   float64\n",
      " 5   LOAN_PURPOSE_n                3920 non-null   object \n",
      " 6   LOAN_AMOUNT_n                 3920 non-null   float64\n",
      " 7   OTHERS_ON_LOAN_n              3920 non-null   object \n",
      " 8   AGE_n                         3920 non-null   float64\n",
      " 9   JOB_TYPE_n                    3920 non-null   float64\n",
      " 10  DEPENDENTS_n                  3920 non-null   int64  \n",
      " 11  TELEPHONE_n                   3920 non-null   int64  \n",
      " 12  FOREIGN_WORKER_n              3920 non-null   int64  \n",
      " 13  EMPLOYMENT_DURATION_n         3920 non-null   int64  \n",
      " 14  PROPERTY_n                    3920 non-null   object \n",
      " 15  HOUSING_n                     3920 non-null   object \n",
      " 16  CURRENT_RESIDENCE_DURATION_n  3920 non-null   float64\n",
      " 17  CHECKING_BALANCE_n2           3920 non-null   float64\n",
      " 18  CREDIT_HISTORY_n              3920 non-null   object \n",
      " 19  EXISTING_SAVINGS_n            3920 non-null   float64\n",
      " 20  EXISTING_CREDITS_COUNT_n      3920 non-null   float64\n",
      "dtypes: float64(9), int64(5), object(7)\n",
      "memory usage: 673.8+ KB\n"
     ]
    }
   ],
   "source": [
    "clean_df.info()"
   ]
  },
  {
   "cell_type": "code",
   "execution_count": 19,
   "metadata": {},
   "outputs": [],
   "source": [
    "# from sklearn.preprocessing import OneHotEncoder, OrdinalEncoder, LabelEncoder\n",
    "temp_n = pd.get_dummies(clean_df, columns=['INSTALLMENT_PLANS_n', 'SEX',\n",
    "    'LOAN_PURPOSE_n','OTHERS_ON_LOAN_n','PROPERTY_n','HOUSING_n','CREDIT_HISTORY_n'])"
   ]
  },
  {
   "cell_type": "code",
   "execution_count": 20,
   "metadata": {},
   "outputs": [
    {
     "data": {
      "text/plain": [
       "ALLOW                                      0\n",
       "PAYMENT_TERM_n                             0\n",
       "INSTALLMENT_PERCENT_n                      0\n",
       "LOAN_AMOUNT_n                              0\n",
       "AGE_n                                      0\n",
       "JOB_TYPE_n                                 0\n",
       "DEPENDENTS_n                               0\n",
       "TELEPHONE_n                                0\n",
       "FOREIGN_WORKER_n                           0\n",
       "EMPLOYMENT_DURATION_n                      0\n",
       "CURRENT_RESIDENCE_DURATION_n               0\n",
       "CHECKING_BALANCE_n2                        0\n",
       "EXISTING_SAVINGS_n                         0\n",
       "EXISTING_CREDITS_COUNT_n                   0\n",
       "INSTALLMENT_PLANS_n_BANK                   0\n",
       "INSTALLMENT_PLANS_n_NONE                   0\n",
       "INSTALLMENT_PLANS_n_STORES                 0\n",
       "SEX_F                                      0\n",
       "SEX_M                                      0\n",
       "LOAN_PURPOSE_n_APPLIANCES                  0\n",
       "LOAN_PURPOSE_n_BUSINESS                    0\n",
       "LOAN_PURPOSE_n_CAR_NEW                     0\n",
       "LOAN_PURPOSE_n_CAR_USED                    0\n",
       "LOAN_PURPOSE_n_EDUCATION                   0\n",
       "LOAN_PURPOSE_n_FURNITURE                   0\n",
       "LOAN_PURPOSE_n_NONE                        0\n",
       "LOAN_PURPOSE_n_OTHER                       0\n",
       "LOAN_PURPOSE_n_RADIO_TV                    0\n",
       "LOAN_PURPOSE_n_REPAIRS                     0\n",
       "LOAN_PURPOSE_n_RETRAINING                  0\n",
       "LOAN_PURPOSE_n_VACATION                    0\n",
       "OTHERS_ON_LOAN_n_CO-APPLICANT              0\n",
       "OTHERS_ON_LOAN_n_GUARANTOR                 0\n",
       "OTHERS_ON_LOAN_n_NONE                      0\n",
       "PROPERTY_n_CAR_OTHER                       0\n",
       "PROPERTY_n_REAL_ESTATE                     0\n",
       "PROPERTY_n_SAVINGS_INSURANCE               0\n",
       "PROPERTY_n_UNKNOWN                         0\n",
       "HOUSING_n_FREE                             0\n",
       "HOUSING_n_OWN                              0\n",
       "HOUSING_n_RENT                             0\n",
       "HOUSING_n_UNKNOWN                          0\n",
       "CREDIT_HISTORY_n_ALL_CREDITS_PAID_BACK     0\n",
       "CREDIT_HISTORY_n_CREDITS_PAID_TO_DATE      0\n",
       "CREDIT_HISTORY_n_NO_CREDITS                0\n",
       "CREDIT_HISTORY_n_OUTSTANDING_CREDIT        0\n",
       "CREDIT_HISTORY_n_PRIOR_PAYMENTS_DELAYED    0\n",
       "CREDIT_HISTORY_n_UNKNOWN                   0\n",
       "dtype: int64"
      ]
     },
     "execution_count": 20,
     "metadata": {},
     "output_type": "execute_result"
    }
   ],
   "source": [
    "temp_n.isnull().sum()"
   ]
  },
  {
   "cell_type": "markdown",
   "metadata": {},
   "source": [
    "## Criação do modelo\n",
    "\n",
    "Com os dados prontos, podemos selecionar um modelo de Machine Learning para treinar com nossos dados. Nesse exemplo, vamos utilizar um modelo de classificação básico, o de Árvore de Decisão.\n",
    "\n",
    "Para conseguir avaliar o desempenho do nosso modelo, vamos dividir os dados que temos entre dados de treino e de teste, e assim, após o treinamento, verificar como ele está se saindo com as predições."
   ]
  },
  {
   "cell_type": "code",
   "execution_count": 21,
   "metadata": {},
   "outputs": [],
   "source": [
    "from sklearn.tree import DecisionTreeClassifier, plot_tree\n",
    "from sklearn.model_selection import train_test_split, cross_val_score\n",
    "from sklearn.metrics import accuracy_score, confusion_matrix, plot_confusion_matrix, ConfusionMatrixDisplay, mean_squared_error, mean_absolute_error\n",
    "from sklearn.ensemble import RandomForestClassifier\n",
    "from sklearn.linear_model import LogisticRegression\n",
    "from imblearn.over_sampling import SMOTE"
   ]
  },
  {
   "cell_type": "markdown",
   "metadata": {},
   "source": [
    "Abaixo, separamos os dados que queremos predizer dos dados que utilizamos como informações para a predição."
   ]
  },
  {
   "cell_type": "code",
   "execution_count": 22,
   "metadata": {},
   "outputs": [],
   "source": [
    "features = ['PAYMENT_TERM_n', 'INSTALLMENT_PERCENT_n', 'LOAN_AMOUNT_n','SEX_F','SEX_M',\n",
    "       'AGE_n', 'JOB_TYPE_n', 'DEPENDENTS_n', 'TELEPHONE_n',\n",
    "       'FOREIGN_WORKER_n', 'EMPLOYMENT_DURATION_n',\n",
    "       'CURRENT_RESIDENCE_DURATION_n', 'CHECKING_BALANCE_n2',\n",
    "       'EXISTING_SAVINGS_n', 'EXISTING_CREDITS_COUNT_n',\n",
    "       'INSTALLMENT_PLANS_n_BANK', 'INSTALLMENT_PLANS_n_NONE',\n",
    "       'INSTALLMENT_PLANS_n_STORES', 'LOAN_PURPOSE_n_APPLIANCES',\n",
    "       'LOAN_PURPOSE_n_BUSINESS', 'LOAN_PURPOSE_n_CAR_NEW',\n",
    "       'LOAN_PURPOSE_n_CAR_USED', 'LOAN_PURPOSE_n_EDUCATION',\n",
    "       'LOAN_PURPOSE_n_FURNITURE', 'LOAN_PURPOSE_n_NONE',\n",
    "       'LOAN_PURPOSE_n_OTHER', 'LOAN_PURPOSE_n_RADIO_TV',\n",
    "       'LOAN_PURPOSE_n_REPAIRS', 'LOAN_PURPOSE_n_RETRAINING',\n",
    "       'LOAN_PURPOSE_n_VACATION', 'OTHERS_ON_LOAN_n_CO-APPLICANT',\n",
    "       'OTHERS_ON_LOAN_n_GUARANTOR', 'OTHERS_ON_LOAN_n_NONE',\n",
    "       'PROPERTY_n_CAR_OTHER', 'PROPERTY_n_REAL_ESTATE',\n",
    "       'PROPERTY_n_SAVINGS_INSURANCE', 'PROPERTY_n_UNKNOWN', 'HOUSING_n_FREE',\n",
    "       'HOUSING_n_OWN', 'HOUSING_n_RENT', 'HOUSING_n_UNKNOWN',\n",
    "       'CREDIT_HISTORY_n_ALL_CREDITS_PAID_BACK',\n",
    "       'CREDIT_HISTORY_n_CREDITS_PAID_TO_DATE', 'CREDIT_HISTORY_n_NO_CREDITS',\n",
    "       'CREDIT_HISTORY_n_OUTSTANDING_CREDIT',\n",
    "       'CREDIT_HISTORY_n_PRIOR_PAYMENTS_DELAYED', 'CREDIT_HISTORY_n_UNKNOWN']\n",
    "target = ['ALLOW']\n",
    "\n",
    "# X = clean_df[features]\n",
    "# y = clean_df[target]\n",
    "X = temp_n[features]\n",
    "y = temp_n[target]\n"
   ]
  },
  {
   "cell_type": "code",
   "execution_count": 23,
   "metadata": {},
   "outputs": [],
   "source": [
    "y = np.ravel(y)"
   ]
  },
  {
   "cell_type": "code",
   "execution_count": null,
   "metadata": {},
   "outputs": [],
   "source": []
  },
  {
   "cell_type": "code",
   "execution_count": 22,
   "metadata": {},
   "outputs": [],
   "source": [
    "test_pct = 0.5 # Separaremos 30% dos dados para testes\n",
    "X_train, X_test, y_train, y_test = train_test_split(X, y, test_size=test_pct, random_state=0)"
   ]
  },
  {
   "cell_type": "code",
   "execution_count": 39,
   "metadata": {},
   "outputs": [
    {
     "name": "stdout",
     "output_type": "stream",
     "text": [
      "Acurácia do modelo (número de predições assertivas sobre número total de testes): 0.8061224489795918\n"
     ]
    }
   ],
   "source": [
    "model = RandomForestClassifier(n_estimators=1000, min_samples_leaf=3, max_features=\"log2\",\n",
    "                            random_state=0, n_jobs=11, criterion='entropy')\n",
    "# model = LogisticRegression(solver='lbfgs', max_iter=1000)\n",
    "\n",
    "# model = DecisionTreeClassifier(random_state=0, max_depth=8)\n",
    "\n",
    "model.fit(X_train, y_train)\n",
    "\n",
    "y_pred = model.predict(X_test)\n",
    "acc = accuracy_score(y_test, y_pred)\n",
    "print(f\"Acurácia do modelo (número de predições assertivas sobre número total de testes): {acc}\")"
   ]
  },
  {
   "cell_type": "markdown",
   "metadata": {},
   "source": [
    "### Feature selection - se for o caso de uma entrada com muitas features (inicialmente rodar sem o for, usando k=10)"
   ]
  },
  {
   "cell_type": "code",
   "execution_count": 24,
   "metadata": {},
   "outputs": [],
   "source": [
    "# from sklearn.feature_selection import SelectKBest, SelectPercentile, f_classif\n",
    "# from sklearn.metrics import mean_absolute_error\n",
    "\n",
    "# k_vs_score = []\n",
    "# for k in range(0,10,1):\n",
    "#     selector = SelectKBest(score_func=f_classif, k=k)\n",
    "\n",
    "#     # Fit_transform calcula todas as correlacoes no fit e armazena no select. O transform vai selecionar \n",
    "#     # as K melhores colunas\n",
    "#     X_train2 = selector.fit_transform(X_train, y_train)\n",
    "#     X_test2 = selector.transform(X_test)\n",
    "\n",
    "#     model = RandomForestClassifier(n_estimators=200, min_samples_leaf=8, bootstrap=True,\n",
    "#                                     max_features=\"log2\", random_state=0, n_jobs=11, criterion='gini')\n",
    "#     model.fit(X_train2, y_train)\n",
    "\n",
    "#     y_pred = model.predict(X_test2)\n",
    "\n",
    "#     score = mean_absolute_error(y_test, y_pred)\n",
    "#     print(f\"k = {k} = MAE {score}\")\n",
    "\n",
    "#     k_vs_score.append(score)\n"
   ]
  },
  {
   "cell_type": "code",
   "execution_count": 25,
   "metadata": {},
   "outputs": [
    {
     "name": "stdout",
     "output_type": "stream",
     "text": [
      "Acurácia do modelo (com cross validate): 0.7688775510204081\n"
     ]
    }
   ],
   "source": [
    "from sklearn.model_selection import cross_val_score\n",
    "acc_cv = cross_val_score(model,X_train, y_train,cv=5)\n",
    "print(f\"Acurácia do modelo (com cross validate): {acc_cv.mean()}\")\n",
    "\n",
    "# np.sqrt(mean_squared_error(y_test, y_pred))"
   ]
  },
  {
   "cell_type": "code",
   "execution_count": 26,
   "metadata": {},
   "outputs": [
    {
     "data": {
      "text/plain": [
       "<sklearn.metrics._plot.confusion_matrix.ConfusionMatrixDisplay at 0x19b01408310>"
      ]
     },
     "execution_count": 26,
     "metadata": {},
     "output_type": "execute_result"
    },
    {
     "data": {
      "image/png": "[encoded data removed]",
      "text/plain": [
       "<Figure size 432x288 with 2 Axes>"
      ]
     },
     "metadata": {
      "needs_background": "light"
     },
     "output_type": "display_data"
    }
   ],
   "source": [
    "ConfusionMatrixDisplay.from_estimator(model, X_test, y_test, display_labels=[\"No Allow\", \"Allow\"])"
   ]
  },
  {
   "cell_type": "code",
   "execution_count": 27,
   "metadata": {},
   "outputs": [],
   "source": [
    "path = model.cost_complexity_pruning_path(X_train, y_train)\n",
    "ccp_alphas = path.ccp_alphas\n",
    "ccp_alphas = ccp_alphas[:-1]\n",
    "\n",
    "model_dts = []\n",
    "\n",
    "for ccp_alpha in ccp_alphas:\n",
    "    model = RandomForestClassifier(n_estimators=100, min_samples_leaf=8, max_features=\"log2\", random_state=0, n_jobs=-1, ccp_alpha=ccp_alpha)\n",
    "    model.fit(X_train, y_train)\n",
    "    model_dts.append(model)\n"
   ]
  },
  {
   "cell_type": "code",
   "execution_count": 28,
   "metadata": {},
   "outputs": [
    {
     "data": {
      "image/png": "[encoded data removed]",
      "text/plain": [
       "<Figure size 432x288 with 1 Axes>"
      ]
     },
     "metadata": {
      "needs_background": "light"
     },
     "output_type": "display_data"
    }
   ],
   "source": [
    "train_scores = [model.score(X_train, y_train) for model in model_dts]\n",
    "test_scores = [model.score(X_test, y_test) for model in model_dts]\n",
    "\n",
    "fig, ax = plt.subplots()\n",
    "ax.set_xlabel(\"alpha\")\n",
    "ax.set_ylabel(\"accuracy\")\n",
    "ax.set_title(\"Accuracy vs alpha for training and testing sets\")\n",
    "ax.plot(ccp_alphas, train_scores, marker='o', label=\"train\", drawstyle=\"steps-post\")\n",
    "ax.plot(ccp_alphas, test_scores, marker='o', label=\"test\", drawstyle=\"steps-post\")\n",
    "ax.legend()\n",
    "plt.show()"
   ]
  },
  {
   "cell_type": "code",
   "execution_count": 31,
   "metadata": {},
   "outputs": [
    {
     "data": {
      "text/plain": [
       "<AxesSubplot:xlabel='tree'>"
      ]
     },
     "execution_count": 31,
     "metadata": {},
     "output_type": "execute_result"
    },
    {
     "data": {
      "image/png": "[encoded data removed]",
      "text/plain": [
       "<Figure size 432x288 with 1 Axes>"
      ]
     },
     "metadata": {
      "needs_background": "light"
     },
     "output_type": "display_data"
    }
   ],
   "source": [
    "model = DecisionTreeClassifier(random_state=42, ccp_alpha=0.015)\n",
    "scores = cross_val_score(model, X_train, y_train, cv=5)\n",
    "df1 = pd.DataFrame(data={'tree':range(5), 'accuracy':scores})\n",
    "df1.plot(x='tree', y='accuracy', marker='o', linestyle='--')"
   ]
  },
  {
   "cell_type": "code",
   "execution_count": 32,
   "metadata": {},
   "outputs": [
    {
     "data": {
      "text/plain": [
       "<AxesSubplot:xlabel='alpha'>"
      ]
     },
     "execution_count": 32,
     "metadata": {},
     "output_type": "execute_result"
    },
    {
     "data": {
      "text/plain": [
       "<Figure size 1080x540 with 0 Axes>"
      ]
     },
     "metadata": {},
     "output_type": "display_data"
    },
    {
     "data": {
      "image/png": "[encoded data removed]",
      "text/plain": [
       "<Figure size 432x288 with 1 Axes>"
      ]
     },
     "metadata": {
      "needs_background": "light"
     },
     "output_type": "display_data"
    }
   ],
   "source": [
    "alpha_loop_values = []\n",
    "\n",
    "for ccp_alpha in ccp_alphas:\n",
    "    model = DecisionTreeClassifier(random_state=0, ccp_alpha=ccp_alpha)\n",
    "    scores = cross_val_score(model, X_train, y_train, cv=5)\n",
    "    alpha_loop_values.append([ccp_alpha, np.mean(scores),np.std(scores)])\n",
    "\n",
    "alpha_results = pd.DataFrame(alpha_loop_values, columns=['alpha','mean_accuracy','std'])\n",
    "plt.figure(figsize=(15,7.5))\n",
    "alpha_results.plot(x='alpha', y='mean_accuracy', yerr='std', marker='o', linestyle='--')"
   ]
  },
  {
   "cell_type": "code",
   "execution_count": 33,
   "metadata": {},
   "outputs": [],
   "source": [
    "# alpha_results[(alpha_results['alpha'] > 0.001) & (alpha_results['alpha'] < 0.0034)]\n",
    "temp2 = alpha_results[(alpha_results.mean_accuracy == alpha_results.mean_accuracy.max())]\n",
    "temp3 = temp2[(temp2.alpha == temp2.alpha.max())]['alpha']"
   ]
  },
  {
   "cell_type": "code",
   "execution_count": 34,
   "metadata": {},
   "outputs": [
    {
     "data": {
      "text/plain": [
       "0.0022677577524516305"
      ]
     },
     "execution_count": 34,
     "metadata": {},
     "output_type": "execute_result"
    }
   ],
   "source": [
    "ideal_ccp_alpha = float(temp3)\n",
    "ideal_ccp_alpha"
   ]
  },
  {
   "cell_type": "code",
   "execution_count": 35,
   "metadata": {},
   "outputs": [
    {
     "name": "stdout",
     "output_type": "stream",
     "text": [
      "Acurácia do modelo (número de predições assertivas sobre número total de testes): 0.79421768707483\n"
     ]
    }
   ],
   "source": [
    "test_pct = 0.3 # Separaremos 30% dos dados para testes\n",
    "X_train, X_test, y_train, y_test = train_test_split(X, y, test_size=test_pct)\n",
    "\n",
    "model_pruned = DecisionTreeClassifier(random_state=42, ccp_alpha=ideal_ccp_alpha)\n",
    "model_pruned.fit(X_train,y_train)\n",
    "\n",
    "y_pred = model_pruned.predict(X_test)\n",
    "acc = accuracy_score(y_test, y_pred)\n",
    "print(f\"Acurácia do modelo (número de predições assertivas sobre número total de testes): {acc}\")"
   ]
  },
  {
   "cell_type": "code",
   "execution_count": 36,
   "metadata": {},
   "outputs": [
    {
     "data": {
      "text/plain": [
       "<sklearn.metrics._plot.confusion_matrix.ConfusionMatrixDisplay at 0x19b098d2dc0>"
      ]
     },
     "execution_count": 36,
     "metadata": {},
     "output_type": "execute_result"
    },
    {
     "data": {
      "image/png": "[encoded data removed]",
      "text/plain": [
       "<Figure size 432x288 with 2 Axes>"
      ]
     },
     "metadata": {
      "needs_background": "light"
     },
     "output_type": "display_data"
    }
   ],
   "source": [
    "ConfusionMatrixDisplay.from_estimator(model_pruned, X_test, y_test, display_labels=[\"No Allow\", \"Allow\"])"
   ]
  },
  {
   "cell_type": "code",
   "execution_count": 37,
   "metadata": {},
   "outputs": [
    {
     "data": {
      "text/plain": [
       "[Text(382.1086956521739, 378.5785714285714, 'PAYMENT_TERM_n <= 777.5\\ngini = 0.451\\nsamples = 2744\\nvalue = [944, 1800]\\nclass = Yes Allow'),\n",
       " Text(163.76086956521738, 320.3357142857143, 'CURRENT_RESIDENCE_DURATION_n <= 2.433\\ngini = 0.316\\nsamples = 1731\\nvalue = [340, 1391]\\nclass = Yes Allow'),\n",
       " Text(72.78260869565217, 262.09285714285716, 'AGE_n <= 35.5\\ngini = 0.17\\nsamples = 904\\nvalue = [85, 819]\\nclass = Yes Allow'),\n",
       " Text(36.391304347826086, 203.85, 'gini = 0.109\\nsamples = 694\\nvalue = [40, 654]\\nclass = Yes Allow'),\n",
       " Text(109.17391304347825, 203.85, 'gini = 0.337\\nsamples = 210\\nvalue = [45, 165]\\nclass = Yes Allow'),\n",
       " Text(254.7391304347826, 262.09285714285716, 'EMPLOYMENT_DURATION_n <= 4.5\\ngini = 0.427\\nsamples = 827\\nvalue = [255, 572]\\nclass = Yes Allow'),\n",
       " Text(181.95652173913044, 203.85, 'CURRENT_RESIDENCE_DURATION_n <= 3.5\\ngini = 0.324\\nsamples = 487\\nvalue = [99, 388]\\nclass = Yes Allow'),\n",
       " Text(145.56521739130434, 145.60714285714283, 'gini = 0.263\\nsamples = 379\\nvalue = [59, 320]\\nclass = Yes Allow'),\n",
       " Text(218.3478260869565, 145.60714285714283, 'gini = 0.466\\nsamples = 108\\nvalue = [40, 68]\\nclass = Yes Allow'),\n",
       " Text(327.52173913043475, 203.85, 'AGE_n <= 26.5\\ngini = 0.497\\nsamples = 340\\nvalue = [156, 184]\\nclass = Yes Allow'),\n",
       " Text(291.1304347826087, 145.60714285714283, 'gini = 0.069\\nsamples = 28\\nvalue = [1, 27]\\nclass = Yes Allow'),\n",
       " Text(363.9130434782609, 145.60714285714283, 'AGE_n <= 43.5\\ngini = 0.5\\nsamples = 312\\nvalue = [155, 157]\\nclass = Yes Allow'),\n",
       " Text(327.52173913043475, 87.3642857142857, 'gini = 0.488\\nsamples = 208\\nvalue = [88, 120]\\nclass = Yes Allow'),\n",
       " Text(400.30434782608694, 87.3642857142857, 'gini = 0.458\\nsamples = 104\\nvalue = [67, 37]\\nclass = No Allow'),\n",
       " Text(600.4565217391304, 320.3357142857143, 'OTHERS_ON_LOAN_n_NONE <= 0.5\\ngini = 0.481\\nsamples = 1013\\nvalue = [604, 409]\\nclass = No Allow'),\n",
       " Text(509.4782608695652, 262.09285714285716, 'CREDIT_HISTORY_n_CREDITS_PAID_TO_DATE <= 0.5\\ngini = 0.282\\nsamples = 324\\nvalue = [269, 55]\\nclass = No Allow'),\n",
       " Text(473.0869565217391, 203.85, 'EMPLOYMENT_DURATION_n <= 4.5\\ngini = 0.231\\nsamples = 308\\nvalue = [267, 41]\\nclass = No Allow'),\n",
       " Text(436.695652173913, 145.60714285714283, 'gini = 0.499\\nsamples = 25\\nvalue = [12, 13]\\nclass = Yes Allow'),\n",
       " Text(509.4782608695652, 145.60714285714283, 'gini = 0.178\\nsamples = 283\\nvalue = [255, 28]\\nclass = No Allow'),\n",
       " Text(545.8695652173913, 203.85, 'gini = 0.219\\nsamples = 16\\nvalue = [2, 14]\\nclass = Yes Allow'),\n",
       " Text(691.4347826086956, 262.09285714285716, 'PROPERTY_n_UNKNOWN <= 0.5\\ngini = 0.5\\nsamples = 689\\nvalue = [335, 354]\\nclass = Yes Allow'),\n",
       " Text(655.0434782608695, 203.85, 'SEX_F <= 0.5\\ngini = 0.489\\nsamples = 554\\nvalue = [236, 318]\\nclass = Yes Allow'),\n",
       " Text(582.2608695652174, 145.60714285714283, 'AGE_n <= 48.5\\ngini = 0.457\\nsamples = 365\\nvalue = [129, 236]\\nclass = Yes Allow'),\n",
       " Text(545.8695652173913, 87.3642857142857, 'gini = 0.434\\nsamples = 326\\nvalue = [104, 222]\\nclass = Yes Allow'),\n",
       " Text(618.6521739130435, 87.3642857142857, 'gini = 0.46\\nsamples = 39\\nvalue = [25, 14]\\nclass = No Allow'),\n",
       " Text(727.8260869565217, 145.60714285714283, 'EMPLOYMENT_DURATION_n <= 3.5\\ngini = 0.491\\nsamples = 189\\nvalue = [107, 82]\\nclass = No Allow'),\n",
       " Text(691.4347826086956, 87.3642857142857, 'gini = 0.375\\nsamples = 56\\nvalue = [14, 42]\\nclass = Yes Allow'),\n",
       " Text(764.2173913043478, 87.3642857142857, 'INSTALLMENT_PLANS_n_NONE <= 0.5\\ngini = 0.421\\nsamples = 133\\nvalue = [93, 40]\\nclass = No Allow'),\n",
       " Text(727.8260869565217, 29.121428571428567, 'gini = 0.489\\nsamples = 33\\nvalue = [14, 19]\\nclass = Yes Allow'),\n",
       " Text(800.6086956521739, 29.121428571428567, 'gini = 0.332\\nsamples = 100\\nvalue = [79, 21]\\nclass = No Allow'),\n",
       " Text(727.8260869565217, 203.85, 'gini = 0.391\\nsamples = 135\\nvalue = [99, 36]\\nclass = No Allow')]"
      ]
     },
     "execution_count": 37,
     "metadata": {},
     "output_type": "execute_result"
    },
    {
     "data": {
      "image/png": "[encoded data removed]",
      "text/plain": [
       "<Figure size 1080x540 with 1 Axes>"
      ]
     },
     "metadata": {
      "needs_background": "light"
     },
     "output_type": "display_data"
    }
   ],
   "source": [
    "plt.figure(figsize=(15,7.5))\n",
    "plot_tree(model_pruned, filled=True, rounded=True, class_names=[\"No Allow\",\"Yes Allow\"], feature_names=X.columns)"
   ]
  },
  {
   "cell_type": "markdown",
   "metadata": {},
   "source": [
    "Apesar de estarmos utilizando somente algumas variáveis do dataset carregado, o desafio espera um modelo que aceite todas as variáveis dos conjuntos de dados disponíveis. Portanto, vamos utilizar um transformador para transformar os dados de entrada, removendo as colunas que não queremos, antes enviá-los ao nosso modelo. Dessa forma, criaremos uma `Pipeline`, que utiliza o transformador como entrada, e o nosso modelo em seguida.\n",
    "\n",
    "Fica como tarefa para você unir os outros conjuntos de dados disponíveis e utilizá-los também para predições no modelo, em vez de remover as colunas."
   ]
  },
  {
   "cell_type": "markdown",
   "metadata": {},
   "source": [
    "## Sobre Pipelines\n",
    "\n",
    "Uma `Pipeline`, da biblioteca `scikit-learn`, consiste em uma série de passos onde realizamos transformações em dados. As transformações são definidas por classes que devem ter sempre **dois métodos**:\n",
    "\n",
    "- **fit**: Um método que recebe dados de treinamento, e retorna a própria instância da classe. Ele é aplicado quando se vai treinar utilizar uma Pipeline para treinar um modelo.\n",
    "- **transform**: Um método que recebe como entrada um conjunto de dados e deve retornar um outro conjunto de dados, transformado. Ele é aplicado em cada etapa da Pipeline, recebendo os dados do passo anterior e transformando-os.\n",
    "\n",
    "Veja abaixo uma representação gráfica do funcionamento de uma Pipeline:"
   ]
  },
  {
   "cell_type": "markdown",
   "metadata": {},
   "source": [
    "![](https://s3.br-sao.cloud-object-storage.appdomain.cloud/maratona-static/pipeline.png)"
   ]
  },
  {
   "cell_type": "markdown",
   "metadata": {},
   "source": [
    "Nesse Notebook, vamos criar uma Pipeline muito similar ao exemplo acima, com dois estágios:\n",
    "\n",
    "- **drop_columns**: Remove as colunas indesejadas do conjunto de dados de entrada.\n",
    "- **classification**: Alimenta um modelo de classificação com os dados obtidos no estágio **drop_columns**, podendo ser tanto para treinamento quanto para obter uma predição."
   ]
  },
  {
   "cell_type": "markdown",
   "metadata": {},
   "source": [
    "## Criação de Pipelines no scikit-learn\n",
    "\n",
    "Para criar um modelo capaz de fazer transformações nos dados de entrada, vamos criar uma `Pipeline` do `scikit-learn` e aplicar nossas transformações dentro dos estágios dela.\n",
    "\n",
    "Abaixo, definimos um transformador exemplo, que irá remover as colunas passadas como parâmetro em sua inicialização:"
   ]
  },
  {
   "cell_type": "code",
   "execution_count": null,
   "metadata": {},
   "outputs": [],
   "source": [
    "from sklearn.base import BaseEstimator, TransformerMixin\n",
    "from sklearn.pipeline import Pipeline\n",
    "\n",
    "\n",
    "# Um transformador para remover colunas indesejadas\n",
    "class DropColumns(BaseEstimator, TransformerMixin):\n",
    "    def __init__(self, columns):\n",
    "        self.columns = columns\n",
    "\n",
    "    def fit(self, X, y=None):\n",
    "        return self\n",
    "\n",
    "    def transform(self, X):\n",
    "        # Primeiro realizamos a cópia do DataFrame 'X' de entrada\n",
    "        data = X.copy()\n",
    "        # Retornamos um novo dataframe sem as colunas indesejadas\n",
    "        return data.drop(labels=self.columns, axis='columns')"
   ]
  },
  {
   "cell_type": "markdown",
   "metadata": {},
   "source": [
    "Tanto o método `fit` quanto o `transform` devem obrigatoriamente ser definidos, mesmo se não forem fazer nada de diferente, como no caso do `fit` acima.\n",
    "\n",
    "Da mesma forma, você pode criar outros transformadores, para outros propósitos, sempre herdando das classes `BaseEstimator` e `TransformerMixin`. Você pode utilizar um transformador para, por exemplo, criar novas colunas, editar tipos de dados de colunas existentes, entre outros.\n",
    "\n",
    "Agora, vamos criar uma Pipeline para utilização do nosso modelo, aceitando todas as colunas esperadas pelo desafio e removendo as que não queremos usar."
   ]
  },
  {
   "cell_type": "code",
   "execution_count": null,
   "metadata": {},
   "outputs": [],
   "source": [
    "challenge_columns = ['ID', 'CHECKING_BALANCE', 'PAYMENT_TERM', 'CREDIT_HISTORY',\n",
    "       'LOAN_PURPOSE', 'LOAN_AMOUNT', 'EXISTING_SAVINGS',\n",
    "       'EMPLOYMENT_DURATION', 'INSTALLMENT_PERCENT', 'SEX', 'OTHERS_ON_LOAN',\n",
    "       'CURRENT_RESIDENCE_DURATION', 'PROPERTY', 'AGE', 'INSTALLMENT_PLANS',\n",
    "       'HOUSING', 'EXISTING_CREDITS_COUNT', 'JOB_TYPE', 'DEPENDENTS',\n",
    "       'TELEPHONE', 'FOREIGN_WORKER', 'ALLOW']\n",
    "\n",
    "unwanted_columns = list((set(challenge_columns) - set(target)) - set(features)) # Remover todas as colunas que não são features do nosso modelo"
   ]
  },
  {
   "cell_type": "code",
   "execution_count": null,
   "metadata": {},
   "outputs": [],
   "source": [
    "# Criando uma instância do transformador, passando como parâmetro as colunas que não queremos\n",
    "drop_columns = DropColumns(unwanted_columns)\n",
    "\n",
    "\n",
    "# Criando a Pipeline, adicionando o nosso transformador seguido de um modelo de árvore de decisão\n",
    "skl_pipeline = Pipeline(steps=[('drop_columns', drop_columns), ('classification', model)])"
   ]
  },
  {
   "cell_type": "markdown",
   "metadata": {},
   "source": [
    "Pronto! Essa pipeline agora está pronta para receber todas as variáveis do desafio, apesar de o modelo só usar algumas."
   ]
  },
  {
   "cell_type": "markdown",
   "metadata": {},
   "source": [
    "## Deploy do modelo para o Watson Machine Learning (WML)\n",
    "\n",
    "Agora temos o modelo pronto para publicação, queremos deixá-lo online para que o sistema da Maratona possa testá-lo :)\n",
    "\n",
    "Para isso, vamos utilizar a biblioteca `IBM Watson Machine Learning`, que permite realizar o encapsulamento de modelos de Machine Learning em APIs REST.\n"
   ]
  },
  {
   "cell_type": "code",
   "execution_count": null,
   "metadata": {},
   "outputs": [],
   "source": [
    "# Instalar a biblioteca do WML\n",
    "!pip install -U ibm-watson-machine-learning"
   ]
  },
  {
   "cell_type": "code",
   "execution_count": null,
   "metadata": {},
   "outputs": [],
   "source": [
    "from ibm_watson_machine_learning import APIClient"
   ]
  },
  {
   "cell_type": "markdown",
   "metadata": {},
   "source": [
    "Caso ainda não tiver criado, crie um serviço de Machine Learning aqui: https://cloud.ibm.com/catalog/services/machine-learning.\n",
    "\n",
    "Insira suas credenciais para o serviço na célula abaixo.\n",
    "\n",
    "Em `location`, insira o ID da região onde se encontra o seu serviço WML instanciado, de acordo com as possibilidades abaixo:\n",
    "\n",
    "- Dallas - `us-south`\n",
    "- London - `eu-gb`\n",
    "- Frankfurt - `eu-de`\n",
    "- Tokyo - `jp-tok`\n",
    "\n",
    "Para a API key, você deve gerá-la aqui: https://cloud.ibm.com/iam/apikeys. Não compartilhe-a com ninguém! Uma API key dá acesso à sua conta IBM Cloud."
   ]
  },
  {
   "cell_type": "code",
   "execution_count": null,
   "metadata": {},
   "outputs": [],
   "source": [
    "api_key = 'INSIRA SUA API KEY AQUI'\n",
    "location = 'us-south' # Caso o WML estiver em uma região diferente, altere\n",
    "\n",
    "wml_credentials = {\n",
    "    \"apikey\": api_key,\n",
    "    \"url\": 'https://' + location + '.ml.cloud.ibm.com'\n",
    "}\n",
    "\n",
    "client = APIClient(wml_credentials)"
   ]
  },
  {
   "cell_type": "markdown",
   "metadata": {},
   "source": [
    "Crie um espaço para salvar o seu modelo. Você pode criá-lo aqui: https://dataplatform.cloud.ibm.com/ml-runtime/spaces?context=cpdaas\n",
    "\n",
    "Quando criar o seu espaço, **associe a instância do seu serviço WML ao espaço!** Sem associar, você não conseguirá efetuar o deploy."
   ]
  },
  {
   "cell_type": "code",
   "execution_count": null,
   "metadata": {},
   "outputs": [],
   "source": [
    "# Listar espaços criados na sua instância de WML\n",
    "client.spaces.list(limit=10)"
   ]
  },
  {
   "cell_type": "markdown",
   "metadata": {},
   "source": [
    "Copie o ID do seu espaço criado para o desafio e cole-o abaixo para utilizá-lo. Você deverá ver a mensagem 'SUCCESS' se o espaço estiver corretamente configurado."
   ]
  },
  {
   "cell_type": "code",
   "execution_count": null,
   "metadata": {},
   "outputs": [],
   "source": [
    "space_id = 'cole aqui'\n",
    "client.set.default_space(space_id)"
   ]
  },
  {
   "cell_type": "markdown",
   "metadata": {},
   "source": [
    "## Utilização da Pipeline dentro do Watson Machine Learning (WML)\n",
    "\n",
    "Para utilizar uma Pipeline no WML com transformadores customizados, são necessários alguns passos adicionais:\n",
    "\n",
    "1. Criar um pacote no Python contendo o transformador customizado;\n",
    "2. Carregar esse pacote com o transformador em um repositório no WML;\n",
    "3. Criar uma especificação de software, com esse pacote customizado, que vai ser utilizada como tempo de execução do modelo no WML.\n",
    "\n",
    "Como exemplo, vamos utilizar um pacote já pronto, disponível aqui: https://github.com/vnderlev/watson-sklearn-transforms. Para configurar o pacote Python, são necessários alguns outros arquivos, mas a lógica do transformador criado se encontra [neste arquivo](https://github.com/vnderlev/watson-sklearn-transforms/blob/master/my_custom_sklearn_transforms/sklearn_transformers.py). No caso, esse é o mesmo transformador que definimos aqui, ele vai excluir do conjunto de dados as colunas passadas como parâmetro na sua inicialização.\n",
    "\n",
    "Abaixo, vamos baixar esse pacote do GitHub e instalá-lo no Python."
   ]
  },
  {
   "cell_type": "code",
   "execution_count": null,
   "metadata": {},
   "outputs": [],
   "source": [
    "!rm -rf watson-sklearn-transforms # Remover a pasta caso já exista\n",
    "!git clone https://github.com/vnderlev/watson-sklearn-transforms # Clonar o repositório com o pacote\n",
    "!zip -r drop-columns.zip watson-sklearn-transforms # Zipar o pacote\n",
    "!pip install drop-columns.zip # Instalar o pacote zipado"
   ]
  },
  {
   "cell_type": "markdown",
   "metadata": {},
   "source": [
    "Vamos agora recriar nossa Pipeline utilizando esse pacote instalado."
   ]
  },
  {
   "cell_type": "code",
   "execution_count": null,
   "metadata": {},
   "outputs": [],
   "source": [
    "from my_custom_sklearn_transforms.sklearn_transformers import DropColumns\n",
    "\n",
    "drop_columns = DropColumns(unwanted_columns)\n",
    "\n",
    "pipeline = Pipeline(steps=[('drop_columns', drop_columns), ('classification', model)])"
   ]
  },
  {
   "cell_type": "markdown",
   "metadata": {},
   "source": [
    "Vamos agora subir o transformador customizado que baixamos para o WML."
   ]
  },
  {
   "cell_type": "code",
   "execution_count": null,
   "metadata": {},
   "outputs": [],
   "source": [
    "# Metadados para o pacote customizado\n",
    "meta_prop_pkg_extn = {\n",
    "    client.package_extensions.ConfigurationMetaNames.NAME: \"Drop_Columns\",\n",
    "    client.package_extensions.ConfigurationMetaNames.DESCRIPTION: \"Extensão para remover colunas\",\n",
    "    client.package_extensions.ConfigurationMetaNames.TYPE: \"pip_zip\"\n",
    "}\n",
    "\n",
    "# Subir o pacote\n",
    "pkg_extn_details = client.package_extensions.store(meta_props=meta_prop_pkg_extn, file_path=\"drop-columns.zip\")\n",
    "\n",
    "# Salvar as informações sobre o pacote\n",
    "pkg_extn_uid = client.package_extensions.get_uid(pkg_extn_details)\n",
    "pkg_extn_url = client.package_extensions.get_href(pkg_extn_details)"
   ]
  },
  {
   "cell_type": "markdown",
   "metadata": {},
   "source": [
    "Vamos agora criar uma especificação de software com o nosso pacote customizado, para que o WML possa utilizar. Caso estiver utilizando um software diferente de `Python 3.8` ou biblioteca diferente de `scikit-learn`, você pode dar uma olhada na lista de especificações de software suportadas pelo WML: https://dataplatform.cloud.ibm.com/docs/content/wsj/wmls/wmls-deploy-python-types.html?context=analytics&audience=wdp"
   ]
  },
  {
   "cell_type": "code",
   "execution_count": null,
   "metadata": {},
   "outputs": [],
   "source": [
    "base_sw_spec_uid = client.software_specifications.get_uid_by_name(\"default_py3.8\")\n",
    "\n",
    "# Caso queira utilizar um software diferente de Python 3.8 como base, dê uma olhada nos disponíveis com a linha abaixo\n",
    "# client.software_specifications.list(limit=100)"
   ]
  },
  {
   "cell_type": "code",
   "execution_count": null,
   "metadata": {},
   "outputs": [],
   "source": [
    "# Metadados da nova especificação de software\n",
    "meta_prop_sw_spec = {\n",
    "    client.software_specifications.ConfigurationMetaNames.NAME: \"sw_spec_drop_columns\",\n",
    "    client.software_specifications.ConfigurationMetaNames.DESCRIPTION: \"Software specification utilizando DropColumns\",\n",
    "    client.software_specifications.ConfigurationMetaNames.BASE_SOFTWARE_SPECIFICATION: {\"guid\": base_sw_spec_uid}\n",
    "}\n",
    "\n",
    "# Criando a nova especificação de software e obtendo seu ID\n",
    "sw_spec_details = client.software_specifications.store(meta_props=meta_prop_sw_spec)\n",
    "sw_spec_uid = client.software_specifications.get_uid(sw_spec_details)\n",
    "\n",
    "# Adicionando o pacote customizado à nova especificação\n",
    "client.software_specifications.add_package_extension(sw_spec_uid, pkg_extn_uid)"
   ]
  },
  {
   "cell_type": "markdown",
   "metadata": {},
   "source": [
    "Finalmente, vamos publicar a pipeline utilizando a especificação de software customizada que criamos."
   ]
  },
  {
   "cell_type": "code",
   "execution_count": null,
   "metadata": {},
   "outputs": [],
   "source": [
    "# Metadados do modelo\n",
    "model_props = {\n",
    "    client.repository.ModelMetaNames.NAME: \"Modelo com Pipeline customizada\",\n",
    "    client.repository.ModelMetaNames.TYPE: 'scikit-learn_0.23',\n",
    "    client.repository.ModelMetaNames.SOFTWARE_SPEC_UID: sw_spec_uid\n",
    "}\n",
    "\n",
    "# Publicando a Pipeline como um modelo\n",
    "published_model = client.repository.store_model(model=pipeline, meta_props=model_props)\n",
    "published_model_uid = client.repository.get_model_uid(published_model)\n",
    "client.repository.get_details(published_model_uid)"
   ]
  },
  {
   "cell_type": "markdown",
   "metadata": {},
   "source": [
    "Seu modelo agora está salvo. Vamos agora deixá-lo disponível online, para que possamos testá-lo:"
   ]
  },
  {
   "cell_type": "code",
   "execution_count": null,
   "metadata": {},
   "outputs": [],
   "source": [
    "# Metadados para publicação do modelo\n",
    "metadata = {\n",
    "    client.deployments.ConfigurationMetaNames.NAME: \"Publicação do modelo customizado\",\n",
    "    client.deployments.ConfigurationMetaNames.ONLINE: {}\n",
    "}\n",
    "\n",
    "# Publicar\n",
    "created_deployment = client.deployments.create(published_model_uid, meta_props=metadata)"
   ]
  },
  {
   "cell_type": "markdown",
   "metadata": {},
   "source": [
    "## Parabéns!\n",
    "\n",
    "Seu modelo está agora publicado. Quando estiver pronto para submeter o desafio, você pode acessar https://maratona.dev/challenges/1, e utilizar as credenciais abaixo para realizar a submissão. Lembre-se de revisar todas as instruções no [README](https://github.com/maratonadev/desafio-1-2021) antes de submeter!"
   ]
  },
  {
   "cell_type": "code",
   "execution_count": null,
   "metadata": {},
   "outputs": [],
   "source": [
    "deployment_uid = client.deployments.get_uid(created_deployment)\n",
    "\n",
    "print(f\"Credenciais para envio (não compartilhe esses dados com ninguém!)\\n\\nAPI key: {api_key}\\nDeployment ID: {deployment_uid}\")"
   ]
  },
  {
   "cell_type": "code",
   "execution_count": null,
   "metadata": {},
   "outputs": [],
   "source": []
  }
 ],
 "metadata": {
  "kernelspec": {
   "display_name": "Python 3.8",
   "language": "python",
   "name": "python3"
  },
  "language_info": {
   "codemirror_mode": {
    "name": "ipython",
    "version": 3
   },
   "file_extension": ".py",
   "mimetype": "text/x-python",
   "name": "python",
   "nbconvert_exporter": "python",
   "pygments_lexer": "ipython3",
   "version": "3.9.7"
  }
 },
 "nbformat": 4,
 "nbformat_minor": 1
}
