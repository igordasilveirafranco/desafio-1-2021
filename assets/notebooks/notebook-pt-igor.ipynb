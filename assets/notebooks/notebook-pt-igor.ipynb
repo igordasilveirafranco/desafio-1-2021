{
 "cells": [
  {
   "cell_type": "markdown",
   "metadata": {
    "collapsed": true
   },
   "source": [
    "# Desafio 1 - Maratona Behind the Code 2021\n",
    "\n",
    "### Notebook guia\n",
    "\n",
    "Esse Jupyter Notebook te dará instruções para criar uma solução introdutória para o desafio 1 da Maratona. Sinta-se livre para editar e melhorar sua solução!\n"
   ]
  },
  {
   "cell_type": "markdown",
   "metadata": {},
   "source": [
    "**Atenção: se estiver utilizando o Watson Studio, lembre-se de deixar o Notebook como editável, clicando no botão de editar acima.**\n",
    "\n",
    "![](https://s3.br-sao.cloud-object-storage.appdomain.cloud/maratona-static/edit-notebook.png)"
   ]
  },
  {
   "cell_type": "markdown",
   "metadata": {},
   "source": [
    "## Exploração do dataset\n",
    "\n",
    "O primeiro passo para o desenvolvimento de um bom modelo de Machine Learning é explorar bem os dados que temos para trabalhar. Devemos entender o melhor possível a relevância de cada dado para o valor que queremos predizer. Afinal, a predição do modelo é inteiramente baseada nos dados com que treinou.\n",
    "\n",
    "Existem muitas bibliotecas em Python que podem ser utilizadas para tratamento e visualização de dados. Nesses exemplos, vamos usar Pandas, Seaborn e Matplotlib."
   ]
  },
  {
   "cell_type": "code",
   "execution_count": 5,
   "metadata": {},
   "outputs": [],
   "source": [
    "import pandas as pd\n",
    "import matplotlib.pyplot as plt\n",
    "import seaborn as sns"
   ]
  },
  {
   "cell_type": "markdown",
   "metadata": {},
   "source": [
    "Primeiramente, vamos carregar o dataset do desafio neste Notebook. Vamos começar com o principal, `LOANS.csv`. Para isso, podemos usar o ícone de assets, disponível no canto superior direito da tela, e inserir o dataset como um DataFrame Pandas, como na imagem abaixo. \n",
    "\n",
    "<img width=\"300px\" src=\"https://s3.br-sao.cloud-object-storage.appdomain.cloud/maratona-static/load-loans.png\" />\n",
    "\n",
    "Repita para todos os datasets que for utilizar."
   ]
  },
  {
   "cell_type": "code",
   "execution_count": 17,
   "metadata": {},
   "outputs": [
    {
     "data": {
      "text/html": [
       "<div>\n",
       "<style scoped>\n",
       "    .dataframe tbody tr th:only-of-type {\n",
       "        vertical-align: middle;\n",
       "    }\n",
       "\n",
       "    .dataframe tbody tr th {\n",
       "        vertical-align: top;\n",
       "    }\n",
       "\n",
       "    .dataframe thead th {\n",
       "        text-align: right;\n",
       "    }\n",
       "</style>\n",
       "<table border=\"1\" class=\"dataframe\">\n",
       "  <thead>\n",
       "    <tr style=\"text-align: right;\">\n",
       "      <th></th>\n",
       "      <th>ID</th>\n",
       "      <th>SEX</th>\n",
       "      <th>AGE</th>\n",
       "      <th>JOB_TYPE</th>\n",
       "      <th>DEPENDENTS</th>\n",
       "      <th>TELEPHONE</th>\n",
       "      <th>FOREIGN_WORKER</th>\n",
       "      <th>EMPLOYMENT_DURATION</th>\n",
       "      <th>PROPERTY</th>\n",
       "      <th>HOUSING</th>\n",
       "      <th>CURRENT_RESIDENCE_DURATION</th>\n",
       "    </tr>\n",
       "  </thead>\n",
       "  <tbody>\n",
       "    <tr>\n",
       "      <th>0</th>\n",
       "      <td>24252</td>\n",
       "      <td>M</td>\n",
       "      <td>47.0</td>\n",
       "      <td>3.0</td>\n",
       "      <td>1.0</td>\n",
       "      <td>0.0</td>\n",
       "      <td>1.0</td>\n",
       "      <td>14.0</td>\n",
       "      <td>SAVINGS_INSURANCE</td>\n",
       "      <td>OWN</td>\n",
       "      <td>3.0</td>\n",
       "    </tr>\n",
       "    <tr>\n",
       "      <th>1</th>\n",
       "      <td>1002018</td>\n",
       "      <td>M</td>\n",
       "      <td>19.0</td>\n",
       "      <td>3.0</td>\n",
       "      <td>1.0</td>\n",
       "      <td>0.0</td>\n",
       "      <td>1.0</td>\n",
       "      <td>0.0</td>\n",
       "      <td>SAVINGS_INSURANCE</td>\n",
       "      <td>RENT</td>\n",
       "      <td>2.0</td>\n",
       "    </tr>\n",
       "    <tr>\n",
       "      <th>2</th>\n",
       "      <td>1240455</td>\n",
       "      <td>F</td>\n",
       "      <td>50.0</td>\n",
       "      <td>2.0</td>\n",
       "      <td>1.0</td>\n",
       "      <td>1.0</td>\n",
       "      <td>1.0</td>\n",
       "      <td>7.0</td>\n",
       "      <td>UNKNOWN</td>\n",
       "      <td>OWN</td>\n",
       "      <td>3.0</td>\n",
       "    </tr>\n",
       "    <tr>\n",
       "      <th>3</th>\n",
       "      <td>107799</td>\n",
       "      <td>M</td>\n",
       "      <td>35.0</td>\n",
       "      <td>3.0</td>\n",
       "      <td>1.0</td>\n",
       "      <td>0.0</td>\n",
       "      <td>1.0</td>\n",
       "      <td>0.0</td>\n",
       "      <td>REAL_ESTATE</td>\n",
       "      <td>OWN</td>\n",
       "      <td>2.0</td>\n",
       "    </tr>\n",
       "    <tr>\n",
       "      <th>4</th>\n",
       "      <td>184883</td>\n",
       "      <td>M</td>\n",
       "      <td>40.0</td>\n",
       "      <td>1.0</td>\n",
       "      <td>1.0</td>\n",
       "      <td>0.0</td>\n",
       "      <td>1.0</td>\n",
       "      <td>9.0</td>\n",
       "      <td>CAR_OTHER</td>\n",
       "      <td>OWN</td>\n",
       "      <td>4.0</td>\n",
       "    </tr>\n",
       "  </tbody>\n",
       "</table>\n",
       "</div>"
      ],
      "text/plain": [
       "        ID SEX   AGE  JOB_TYPE  DEPENDENTS  TELEPHONE  FOREIGN_WORKER  \\\n",
       "0    24252   M  47.0       3.0         1.0        0.0             1.0   \n",
       "1  1002018   M  19.0       3.0         1.0        0.0             1.0   \n",
       "2  1240455   F  50.0       2.0         1.0        1.0             1.0   \n",
       "3   107799   M  35.0       3.0         1.0        0.0             1.0   \n",
       "4   184883   M  40.0       1.0         1.0        0.0             1.0   \n",
       "\n",
       "   EMPLOYMENT_DURATION           PROPERTY HOUSING  CURRENT_RESIDENCE_DURATION  \n",
       "0                 14.0  SAVINGS_INSURANCE     OWN                         3.0  \n",
       "1                  0.0  SAVINGS_INSURANCE    RENT                         2.0  \n",
       "2                  7.0            UNKNOWN     OWN                         3.0  \n",
       "3                  0.0        REAL_ESTATE     OWN                         2.0  \n",
       "4                  9.0          CAR_OTHER     OWN                         4.0  "
      ]
     },
     "execution_count": 17,
     "metadata": {},
     "output_type": "execute_result"
    }
   ],
   "source": [
    "# Carregue aqui o dataset\n",
    "demogra = pd.read_csv(\"..\\data\\Demographics.csv\")\n",
    "demogra.head()"
   ]
  },
  {
   "cell_type": "code",
   "execution_count": 18,
   "metadata": {},
   "outputs": [
    {
     "data": {
      "text/html": [
       "<div>\n",
       "<style scoped>\n",
       "    .dataframe tbody tr th:only-of-type {\n",
       "        vertical-align: middle;\n",
       "    }\n",
       "\n",
       "    .dataframe tbody tr th {\n",
       "        vertical-align: top;\n",
       "    }\n",
       "\n",
       "    .dataframe thead th {\n",
       "        text-align: right;\n",
       "    }\n",
       "</style>\n",
       "<table border=\"1\" class=\"dataframe\">\n",
       "  <thead>\n",
       "    <tr style=\"text-align: right;\">\n",
       "      <th></th>\n",
       "      <th>ID</th>\n",
       "      <th>CHECKING_BALANCE</th>\n",
       "      <th>CREDIT_HISTORY</th>\n",
       "      <th>EXISTING_SAVINGS</th>\n",
       "      <th>EXISTING_CREDITS_COUNT</th>\n",
       "    </tr>\n",
       "  </thead>\n",
       "  <tbody>\n",
       "    <tr>\n",
       "      <th>0</th>\n",
       "      <td>291655</td>\n",
       "      <td>-566.53</td>\n",
       "      <td>ALL_CREDITS_PAID_BACK</td>\n",
       "      <td>36.42</td>\n",
       "      <td>1.0</td>\n",
       "    </tr>\n",
       "    <tr>\n",
       "      <th>1</th>\n",
       "      <td>657079</td>\n",
       "      <td>-1673.16</td>\n",
       "      <td>CREDITS_PAID_TO_DATE</td>\n",
       "      <td>22.9</td>\n",
       "      <td>1.0</td>\n",
       "    </tr>\n",
       "    <tr>\n",
       "      <th>2</th>\n",
       "      <td>256050</td>\n",
       "      <td>NO_CHECKING</td>\n",
       "      <td>CREDITS_PAID_TO_DATE</td>\n",
       "      <td>450.35</td>\n",
       "      <td>2.0</td>\n",
       "    </tr>\n",
       "    <tr>\n",
       "      <th>3</th>\n",
       "      <td>1039151</td>\n",
       "      <td>-1471.03</td>\n",
       "      <td>PRIOR_PAYMENTS_DELAYED</td>\n",
       "      <td>805.71</td>\n",
       "      <td>2.0</td>\n",
       "    </tr>\n",
       "    <tr>\n",
       "      <th>4</th>\n",
       "      <td>1002660</td>\n",
       "      <td>NO_CHECKING</td>\n",
       "      <td>CREDITS_PAID_TO_DATE</td>\n",
       "      <td>295.03</td>\n",
       "      <td>1.0</td>\n",
       "    </tr>\n",
       "  </tbody>\n",
       "</table>\n",
       "</div>"
      ],
      "text/plain": [
       "        ID CHECKING_BALANCE          CREDIT_HISTORY EXISTING_SAVINGS  \\\n",
       "0   291655          -566.53   ALL_CREDITS_PAID_BACK            36.42   \n",
       "1   657079         -1673.16    CREDITS_PAID_TO_DATE             22.9   \n",
       "2   256050      NO_CHECKING    CREDITS_PAID_TO_DATE           450.35   \n",
       "3  1039151         -1471.03  PRIOR_PAYMENTS_DELAYED           805.71   \n",
       "4  1002660      NO_CHECKING    CREDITS_PAID_TO_DATE           295.03   \n",
       "\n",
       "   EXISTING_CREDITS_COUNT  \n",
       "0                     1.0  \n",
       "1                     1.0  \n",
       "2                     2.0  \n",
       "3                     2.0  \n",
       "4                     1.0  "
      ]
     },
     "execution_count": 18,
     "metadata": {},
     "output_type": "execute_result"
    }
   ],
   "source": [
    "accounts = pd.read_csv(\"..\\data\\Accounts.csv\")\n",
    "accounts.head()"
   ]
  },
  {
   "cell_type": "code",
   "execution_count": 19,
   "metadata": {
    "scrolled": true
   },
   "outputs": [
    {
     "data": {
      "text/html": [
       "<div>\n",
       "<style scoped>\n",
       "    .dataframe tbody tr th:only-of-type {\n",
       "        vertical-align: middle;\n",
       "    }\n",
       "\n",
       "    .dataframe tbody tr th {\n",
       "        vertical-align: top;\n",
       "    }\n",
       "\n",
       "    .dataframe thead th {\n",
       "        text-align: right;\n",
       "    }\n",
       "</style>\n",
       "<table border=\"1\" class=\"dataframe\">\n",
       "  <thead>\n",
       "    <tr style=\"text-align: right;\">\n",
       "      <th></th>\n",
       "      <th>ID</th>\n",
       "      <th>PAYMENT_TERM</th>\n",
       "      <th>INSTALLMENT_PLANS</th>\n",
       "      <th>INSTALLMENT_PERCENT</th>\n",
       "      <th>LOAN_PURPOSE</th>\n",
       "      <th>LOAN_AMOUNT</th>\n",
       "      <th>OTHERS_ON_LOAN</th>\n",
       "      <th>ALLOW</th>\n",
       "    </tr>\n",
       "  </thead>\n",
       "  <tbody>\n",
       "    <tr>\n",
       "      <th>0</th>\n",
       "      <td>610339</td>\n",
       "      <td>713.0</td>\n",
       "      <td>STORES</td>\n",
       "      <td>3.0</td>\n",
       "      <td>CAR_USED</td>\n",
       "      <td>3103.0</td>\n",
       "      <td>NONE</td>\n",
       "      <td>1</td>\n",
       "    </tr>\n",
       "    <tr>\n",
       "      <th>1</th>\n",
       "      <td>109167</td>\n",
       "      <td>341.0</td>\n",
       "      <td>STORES</td>\n",
       "      <td>1.0</td>\n",
       "      <td>CAR_NEW</td>\n",
       "      <td>716.0</td>\n",
       "      <td>NONE</td>\n",
       "      <td>1</td>\n",
       "    </tr>\n",
       "    <tr>\n",
       "      <th>2</th>\n",
       "      <td>823322</td>\n",
       "      <td>868.0</td>\n",
       "      <td>NONE</td>\n",
       "      <td>4.0</td>\n",
       "      <td>APPLIANCES</td>\n",
       "      <td>4333.0</td>\n",
       "      <td>NONE</td>\n",
       "      <td>1</td>\n",
       "    </tr>\n",
       "    <tr>\n",
       "      <th>3</th>\n",
       "      <td>322224</td>\n",
       "      <td>310.0</td>\n",
       "      <td>STORES</td>\n",
       "      <td>2.0</td>\n",
       "      <td>FURNITURE</td>\n",
       "      <td>250.0</td>\n",
       "      <td>NONE</td>\n",
       "      <td>1</td>\n",
       "    </tr>\n",
       "    <tr>\n",
       "      <th>4</th>\n",
       "      <td>912693</td>\n",
       "      <td>620.0</td>\n",
       "      <td>NONE</td>\n",
       "      <td>2.0</td>\n",
       "      <td>CAR_USED</td>\n",
       "      <td>2454.0</td>\n",
       "      <td>NONE</td>\n",
       "      <td>0</td>\n",
       "    </tr>\n",
       "  </tbody>\n",
       "</table>\n",
       "</div>"
      ],
      "text/plain": [
       "       ID  PAYMENT_TERM INSTALLMENT_PLANS  INSTALLMENT_PERCENT LOAN_PURPOSE  \\\n",
       "0  610339         713.0            STORES                  3.0     CAR_USED   \n",
       "1  109167         341.0            STORES                  1.0      CAR_NEW   \n",
       "2  823322         868.0              NONE                  4.0   APPLIANCES   \n",
       "3  322224         310.0            STORES                  2.0    FURNITURE   \n",
       "4  912693         620.0              NONE                  2.0     CAR_USED   \n",
       "\n",
       "   LOAN_AMOUNT OTHERS_ON_LOAN  ALLOW  \n",
       "0       3103.0           NONE      1  \n",
       "1        716.0           NONE      1  \n",
       "2       4333.0           NONE      1  \n",
       "3        250.0           NONE      1  \n",
       "4       2454.0           NONE      0  "
      ]
     },
     "execution_count": 19,
     "metadata": {},
     "output_type": "execute_result"
    }
   ],
   "source": [
    "loans = pd.read_csv(\"..\\data\\loans.csv\")\n",
    "loans.head()"
   ]
  },
  {
   "cell_type": "markdown",
   "metadata": {},
   "source": [
    "Podemos usar os métodos `.info()` e `.describe()` para obter informações básicas sobre quantidade presente dos dados, tipos e valores deles."
   ]
  },
  {
   "cell_type": "code",
   "execution_count": 20,
   "metadata": {},
   "outputs": [
    {
     "name": "stdout",
     "output_type": "stream",
     "text": [
      "<class 'pandas.core.frame.DataFrame'>\n",
      "RangeIndex: 3999 entries, 0 to 3998\n",
      "Data columns (total 8 columns):\n",
      " #   Column               Non-Null Count  Dtype  \n",
      "---  ------               --------------  -----  \n",
      " 0   ID                   3999 non-null   int64  \n",
      " 1   PAYMENT_TERM         3975 non-null   float64\n",
      " 2   INSTALLMENT_PLANS    3978 non-null   object \n",
      " 3   INSTALLMENT_PERCENT  3974 non-null   float64\n",
      " 4   LOAN_PURPOSE         3979 non-null   object \n",
      " 5   LOAN_AMOUNT          3981 non-null   float64\n",
      " 6   OTHERS_ON_LOAN       3977 non-null   object \n",
      " 7   ALLOW                3999 non-null   int64  \n",
      "dtypes: float64(3), int64(2), object(3)\n",
      "memory usage: 250.1+ KB\n"
     ]
    }
   ],
   "source": [
    "loans.info()"
   ]
  },
  {
   "cell_type": "code",
   "execution_count": 21,
   "metadata": {},
   "outputs": [
    {
     "data": {
      "text/html": [
       "<div>\n",
       "<style scoped>\n",
       "    .dataframe tbody tr th:only-of-type {\n",
       "        vertical-align: middle;\n",
       "    }\n",
       "\n",
       "    .dataframe tbody tr th {\n",
       "        vertical-align: top;\n",
       "    }\n",
       "\n",
       "    .dataframe thead th {\n",
       "        text-align: right;\n",
       "    }\n",
       "</style>\n",
       "<table border=\"1\" class=\"dataframe\">\n",
       "  <thead>\n",
       "    <tr style=\"text-align: right;\">\n",
       "      <th></th>\n",
       "      <th>ID</th>\n",
       "      <th>PAYMENT_TERM</th>\n",
       "      <th>INSTALLMENT_PERCENT</th>\n",
       "      <th>LOAN_AMOUNT</th>\n",
       "      <th>ALLOW</th>\n",
       "    </tr>\n",
       "  </thead>\n",
       "  <tbody>\n",
       "    <tr>\n",
       "      <th>count</th>\n",
       "      <td>3.999000e+03</td>\n",
       "      <td>3975.000000</td>\n",
       "      <td>3974.000000</td>\n",
       "      <td>3981.000000</td>\n",
       "      <td>3999.000000</td>\n",
       "    </tr>\n",
       "    <tr>\n",
       "      <th>mean</th>\n",
       "      <td>6.603562e+05</td>\n",
       "      <td>653.796981</td>\n",
       "      <td>2.981379</td>\n",
       "      <td>3479.168802</td>\n",
       "      <td>0.664166</td>\n",
       "    </tr>\n",
       "    <tr>\n",
       "      <th>std</th>\n",
       "      <td>3.728332e+05</td>\n",
       "      <td>338.723239</td>\n",
       "      <td>1.121448</td>\n",
       "      <td>2489.961917</td>\n",
       "      <td>0.472340</td>\n",
       "    </tr>\n",
       "    <tr>\n",
       "      <th>min</th>\n",
       "      <td>9.800000e+01</td>\n",
       "      <td>120.000000</td>\n",
       "      <td>1.000000</td>\n",
       "      <td>250.000000</td>\n",
       "      <td>0.000000</td>\n",
       "    </tr>\n",
       "    <tr>\n",
       "      <th>25%</th>\n",
       "      <td>3.418460e+05</td>\n",
       "      <td>390.000000</td>\n",
       "      <td>2.000000</td>\n",
       "      <td>1330.000000</td>\n",
       "      <td>0.000000</td>\n",
       "    </tr>\n",
       "    <tr>\n",
       "      <th>50%</th>\n",
       "      <td>6.670610e+05</td>\n",
       "      <td>651.000000</td>\n",
       "      <td>3.000000</td>\n",
       "      <td>3237.000000</td>\n",
       "      <td>1.000000</td>\n",
       "    </tr>\n",
       "    <tr>\n",
       "      <th>75%</th>\n",
       "      <td>9.778745e+05</td>\n",
       "      <td>899.000000</td>\n",
       "      <td>4.000000</td>\n",
       "      <td>5334.000000</td>\n",
       "      <td>1.000000</td>\n",
       "    </tr>\n",
       "    <tr>\n",
       "      <th>max</th>\n",
       "      <td>1.320082e+06</td>\n",
       "      <td>1984.000000</td>\n",
       "      <td>6.000000</td>\n",
       "      <td>11676.000000</td>\n",
       "      <td>1.000000</td>\n",
       "    </tr>\n",
       "  </tbody>\n",
       "</table>\n",
       "</div>"
      ],
      "text/plain": [
       "                 ID  PAYMENT_TERM  INSTALLMENT_PERCENT   LOAN_AMOUNT  \\\n",
       "count  3.999000e+03   3975.000000          3974.000000   3981.000000   \n",
       "mean   6.603562e+05    653.796981             2.981379   3479.168802   \n",
       "std    3.728332e+05    338.723239             1.121448   2489.961917   \n",
       "min    9.800000e+01    120.000000             1.000000    250.000000   \n",
       "25%    3.418460e+05    390.000000             2.000000   1330.000000   \n",
       "50%    6.670610e+05    651.000000             3.000000   3237.000000   \n",
       "75%    9.778745e+05    899.000000             4.000000   5334.000000   \n",
       "max    1.320082e+06   1984.000000             6.000000  11676.000000   \n",
       "\n",
       "             ALLOW  \n",
       "count  3999.000000  \n",
       "mean      0.664166  \n",
       "std       0.472340  \n",
       "min       0.000000  \n",
       "25%       0.000000  \n",
       "50%       1.000000  \n",
       "75%       1.000000  \n",
       "max       1.000000  "
      ]
     },
     "execution_count": 21,
     "metadata": {},
     "output_type": "execute_result"
    }
   ],
   "source": [
    "loans.describe()"
   ]
  },
  {
   "cell_type": "markdown",
   "metadata": {},
   "source": [
    "A variável destino para este desafio é a `ALLOW`, significando se um empréstimo deverá ser permitido ou não, baseado nas informações dadas. Vamos dar uma olhada em como está a distribuição dessa variável"
   ]
  },
  {
   "cell_type": "code",
   "execution_count": 22,
   "metadata": {},
   "outputs": [
    {
     "data": {
      "image/png": "[encoded data removed]",
      "text/plain": [
       "<Figure size 432x288 with 1 Axes>"
      ]
     },
     "metadata": {
      "needs_background": "light"
     },
     "output_type": "display_data"
    }
   ],
   "source": [
    "risk_plot = sns.countplot(data=loans, x='ALLOW', order=loans['ALLOW'].value_counts().index)\n",
    "plt.show()"
   ]
  },
  {
   "cell_type": "markdown",
   "metadata": {},
   "source": [
    "Sinta-se livre para ver a distribuição de outras colunas do conjunto de dados, utilizar os outros conjuntos de dados, explorar as correlações entre variáveis e outros."
   ]
  },
  {
   "cell_type": "code",
   "execution_count": 50,
   "metadata": {},
   "outputs": [
    {
     "data": {
      "image/png": "[encoded data removed]",
      "text/plain": [
       "<Figure size 432x288 with 1 Axes>"
      ]
     },
     "metadata": {
      "needs_background": "light"
     },
     "output_type": "display_data"
    }
   ],
   "source": [
    "risk_plot = sns.countplot(data=demogra, x='PROPERTY', order=demogra['PROPERTY'].value_counts().index)\n",
    "plt.show()"
   ]
  },
  {
   "cell_type": "code",
   "execution_count": 58,
   "metadata": {},
   "outputs": [
    {
     "data": {
      "image/png": "[encoded data removed]",
      "text/plain": [
       "<Figure size 432x288 with 1 Axes>"
      ]
     },
     "metadata": {
      "needs_background": "light"
     },
     "output_type": "display_data"
    }
   ],
   "source": [
    "risk_plot = sns.countplot(data=demogra, x='SEX', order=demogra['SEX'].value_counts().index)\n",
    "plt.show()"
   ]
  },
  {
   "cell_type": "code",
   "execution_count": null,
   "metadata": {},
   "outputs": [],
   "source": []
  },
  {
   "cell_type": "markdown",
   "metadata": {},
   "source": [
    "## Tratamento dos dados"
   ]
  },
  {
   "cell_type": "markdown",
   "metadata": {},
   "source": [
    "Uma vez que exploramos os dados, entendemos a importância de cada coluna e podemos fazer alterações nelas para para obter um melhor resultado. Aqui, vamos fazer apenas um tratamento simples, de remover do dataset as linhas que tiverem faltando algum valor. Não necessariamente essa técnica é a melhor para se utilizar no desafio, é apenas um exemplo de como tratar o dataset.\n",
    "\n",
    "Para tratamentos mais avançados, como modificação de colunas ou criação de novas colunas, veja mais abaixo no Notebook, em que explicamos como utilizar as `Pipelines`, da biblioteca `sklearn`, para realizar transformações nos dados."
   ]
  },
  {
   "cell_type": "code",
   "execution_count": null,
   "metadata": {
    "scrolled": true
   },
   "outputs": [],
   "source": [
    "clean_df = loans.dropna()\n",
    "clean_df.count()"
   ]
  },
  {
   "cell_type": "markdown",
   "metadata": {},
   "source": [
    "Podemos observar que agora temos um dataset \"limpo\", mas perdemos alguns dados por remover as linhas em que pelo menos uma coluna estava faltando."
   ]
  },
  {
   "cell_type": "markdown",
   "metadata": {},
   "source": [
    "Observando a execução do método `.info()` acima, podemos ver que existem três colunas do tipo `object`. O modelo do `scikit-learn` que vamos usar não é capaz de processar uma variável desse tipo. Portanto, para dar seguimento ao experimento, vamos remover essa coluna. Recomendamos que você use alguma técnica para tratamento de variáveis categóricas, como o _one-hot encoding_, em vez de remover a coluna.\n",
    "\n",
    "Vamos também remover a coluna `ID`, pois sabemos que ela não é uma informação útil para a predição (é apenas um número identificando um cliente)."
   ]
  },
  {
   "cell_type": "code",
   "execution_count": 24,
   "metadata": {},
   "outputs": [],
   "source": [
    "object_columns = ['INSTALLMENT_PLANS', 'LOAN_PURPOSE', 'OTHERS_ON_LOAN']\n",
    "clean_df = clean_df.drop(object_columns, axis=1)\n",
    "clean_df = clean_df.drop('ID', axis=1)"
   ]
  },
  {
   "cell_type": "code",
   "execution_count": null,
   "metadata": {},
   "outputs": [],
   "source": [
    "clean_df.info()"
   ]
  },
  {
   "cell_type": "code",
   "execution_count": 71,
   "metadata": {},
   "outputs": [],
   "source": [
    "lo_de = loans.merge(demogra)"
   ]
  },
  {
   "cell_type": "code",
   "execution_count": 72,
   "metadata": {},
   "outputs": [
    {
     "name": "stdout",
     "output_type": "stream",
     "text": [
      "<class 'pandas.core.frame.DataFrame'>\n",
      "Int64Index: 3936 entries, 0 to 3935\n",
      "Data columns (total 18 columns):\n",
      " #   Column                      Non-Null Count  Dtype  \n",
      "---  ------                      --------------  -----  \n",
      " 0   ID                          3936 non-null   int64  \n",
      " 1   PAYMENT_TERM                3912 non-null   float64\n",
      " 2   INSTALLMENT_PLANS           3915 non-null   object \n",
      " 3   INSTALLMENT_PERCENT         3911 non-null   float64\n",
      " 4   LOAN_PURPOSE                3917 non-null   object \n",
      " 5   LOAN_AMOUNT                 3918 non-null   float64\n",
      " 6   OTHERS_ON_LOAN              3914 non-null   object \n",
      " 7   ALLOW                       3936 non-null   int64  \n",
      " 8   SEX                         3920 non-null   object \n",
      " 9   AGE                         3918 non-null   float64\n",
      " 10  JOB_TYPE                    3910 non-null   float64\n",
      " 11  DEPENDENTS                  3915 non-null   float64\n",
      " 12  TELEPHONE                   3915 non-null   float64\n",
      " 13  FOREIGN_WORKER              3909 non-null   float64\n",
      " 14  EMPLOYMENT_DURATION         3923 non-null   float64\n",
      " 15  PROPERTY                    3918 non-null   object \n",
      " 16  HOUSING                     3912 non-null   object \n",
      " 17  CURRENT_RESIDENCE_DURATION  3917 non-null   float64\n",
      "dtypes: float64(10), int64(2), object(6)\n",
      "memory usage: 584.2+ KB\n"
     ]
    }
   ],
   "source": [
    "lo_de.info()\n",
    "#loans.info()\n",
    "#demogra.info()"
   ]
  },
  {
   "cell_type": "code",
   "execution_count": 73,
   "metadata": {},
   "outputs": [],
   "source": [
    "full2 = lo_de.merge(accounts)"
   ]
  },
  {
   "cell_type": "code",
   "execution_count": null,
   "metadata": {},
   "outputs": [],
   "source": [
    "#full2.info()\n",
    "accounts.info()"
   ]
  },
  {
   "cell_type": "code",
   "execution_count": 74,
   "metadata": {},
   "outputs": [
    {
     "data": {
      "text/plain": [
       "ID                            3615\n",
       "PAYMENT_TERM                  3615\n",
       "INSTALLMENT_PLANS             3615\n",
       "INSTALLMENT_PERCENT           3615\n",
       "LOAN_PURPOSE                  3615\n",
       "LOAN_AMOUNT                   3615\n",
       "OTHERS_ON_LOAN                3615\n",
       "ALLOW                         3615\n",
       "SEX                           3615\n",
       "AGE                           3615\n",
       "JOB_TYPE                      3615\n",
       "DEPENDENTS                    3615\n",
       "TELEPHONE                     3615\n",
       "FOREIGN_WORKER                3615\n",
       "EMPLOYMENT_DURATION           3615\n",
       "PROPERTY                      3615\n",
       "HOUSING                       3615\n",
       "CURRENT_RESIDENCE_DURATION    3615\n",
       "dtype: int64"
      ]
     },
     "execution_count": 74,
     "metadata": {},
     "output_type": "execute_result"
    }
   ],
   "source": [
    "lo_de_clean = lo_de.dropna()\n",
    "lo_de_clean.count()"
   ]
  },
  {
   "cell_type": "code",
   "execution_count": 75,
   "metadata": {},
   "outputs": [
    {
     "data": {
      "text/plain": [
       "['ID',\n",
       " 'PAYMENT_TERM',\n",
       " 'INSTALLMENT_PLANS',\n",
       " 'INSTALLMENT_PERCENT',\n",
       " 'LOAN_PURPOSE',\n",
       " 'LOAN_AMOUNT',\n",
       " 'OTHERS_ON_LOAN',\n",
       " 'ALLOW',\n",
       " 'SEX',\n",
       " 'AGE',\n",
       " 'JOB_TYPE',\n",
       " 'DEPENDENTS',\n",
       " 'TELEPHONE',\n",
       " 'FOREIGN_WORKER',\n",
       " 'EMPLOYMENT_DURATION',\n",
       " 'PROPERTY',\n",
       " 'HOUSING',\n",
       " 'CURRENT_RESIDENCE_DURATION']"
      ]
     },
     "execution_count": 75,
     "metadata": {},
     "output_type": "execute_result"
    }
   ],
   "source": [
    "#full_clean.columns.values.tolist()\n",
    "list(lo_de_clean)"
   ]
  },
  {
   "cell_type": "code",
   "execution_count": 76,
   "metadata": {},
   "outputs": [
    {
     "data": {
      "image/png": "[encoded data removed]",
      "text/plain": [
       "<Figure size 432x288 with 1 Axes>"
      ]
     },
     "metadata": {
      "needs_background": "light"
     },
     "output_type": "display_data"
    }
   ],
   "source": [
    "risk_plot = sns.countplot(data=lo_de_clean, x='SEX', order=lo_de_clean['SEX'].value_counts().index)\n",
    "plt.show()"
   ]
  },
  {
   "cell_type": "code",
   "execution_count": 117,
   "metadata": {},
   "outputs": [
    {
     "data": {
      "text/plain": [
       "<function matplotlib.pyplot.show(close=None, block=None)>"
      ]
     },
     "execution_count": 117,
     "metadata": {},
     "output_type": "execute_result"
    },
    {
     "data": {
      "image/png": "[encoded data removed]",
      "text/plain": [
       "<Figure size 403.125x360 with 1 Axes>"
      ]
     },
     "metadata": {
      "needs_background": "light"
     },
     "output_type": "display_data"
    }
   ],
   "source": [
    "dst_plot = sns.displot(lo_de_clean, x=\"INSTALLMENT_PLANS\",hue=\"ALLOW\")\n",
    "plt.show"
   ]
  },
  {
   "cell_type": "code",
   "execution_count": 126,
   "metadata": {},
   "outputs": [
    {
     "data": {
      "text/plain": [
       "<function matplotlib.pyplot.show(close=None, block=None)>"
      ]
     },
     "execution_count": 126,
     "metadata": {},
     "output_type": "execute_result"
    },
    {
     "data": {
      "image/png": "[encoded data removed]",
      "text/plain": [
       "<Figure size 403.125x360 with 1 Axes>"
      ]
     },
     "metadata": {
      "needs_background": "light"
     },
     "output_type": "display_data"
    }
   ],
   "source": [
    "dst_plot = sns.displot(lo_de_clean, x=\"HOUSING\",hue=\"ALLOW\")\n",
    "plt.show"
   ]
  },
  {
   "cell_type": "code",
   "execution_count": null,
   "metadata": {},
   "outputs": [],
   "source": [
    "clean_columns = [ 'INSTALLMENT_PLANS',  'LOAN_AMOUNT', , 'ALLOW', 'SEX', 'AGE', 'JOB_TYPE', 'DEPENDENTS', 'TELEPHONE', 'FOREIGN_WORKER',\n",
    " 'EMPLOYMENT_DURATION', 'PROPERTY', 'HOUSING', 'CURRENT_RESIDENCE_DURATION', , 'EXISTING_CREDITS_COUNT']\n",
    "#varcategotica_columns = ['LOAN_PURPOSE','OTHERS_ON_LOAN','CREDIT_HISTORY','CHECKING_BALANCE','EXISTING_SAVINGS']\n",
    "clean_df = clean_df.drop(object_columns, axis=1)\n",
    "clean_df = clean_df.drop('ID', axis=1)"
   ]
  },
  {
   "cell_type": "markdown",
   "metadata": {},
   "source": [
    "## Criação do modelo\n",
    "\n",
    "Com os dados prontos, podemos selecionar um modelo de Machine Learning para treinar com nossos dados. Nesse exemplo, vamos utilizar um modelo de classificação básico, o de Árvore de Decisão.\n",
    "\n",
    "Para conseguir avaliar o desempenho do nosso modelo, vamos dividir os dados que temos entre dados de treino e de teste, e assim, após o treinamento, verificar como ele está se saindo com as predições."
   ]
  },
  {
   "cell_type": "code",
   "execution_count": 116,
   "metadata": {},
   "outputs": [],
   "source": [
    "from sklearn.tree import DecisionTreeClassifier\n",
    "from sklearn.model_selection import train_test_split\n",
    "from sklearn.metrics import accuracy_score\n",
    "from sklearn.preprocessing import OneHotEncoder, OrdinalEncoder, LabelEncoder"
   ]
  },
  {
   "cell_type": "code",
   "execution_count": null,
   "metadata": {},
   "outputs": [],
   "source": []
  },
  {
   "cell_type": "code",
   "execution_count": 106,
   "metadata": {},
   "outputs": [],
   "source": [
    "# Transformar dados categoricos em numericos usando pandas\n",
    "dummie_housing = pd.get_dummies(lo_de_clean.HOUSING)"
   ]
  },
  {
   "cell_type": "code",
   "execution_count": null,
   "metadata": {},
   "outputs": [],
   "source": [
    "#merged = pd.concat([lo_de_clean,dummie_housing],axis='columns')\n",
    "merged.head()"
   ]
  },
  {
   "cell_type": "code",
   "execution_count": null,
   "metadata": {},
   "outputs": [],
   "source": [
    "#final = merged.drop(['HOUSING'],axis='columns')\n",
    "final.head()"
   ]
  },
  {
   "cell_type": "code",
   "execution_count": null,
   "metadata": {},
   "outputs": [],
   "source": [
    "# Transformar dados categoricos em numericos usando sklearn\n",
    "#ohe = OneHotEncoder(sparse=False)\n",
    "#ohe.fit_transform(lo_de_clean[['HOUSING']])"
   ]
  },
  {
   "cell_type": "markdown",
   "metadata": {},
   "source": [
    "Abaixo, separamos os dados que queremos predizer dos dados que utilizamos como informações para a predição."
   ]
  },
  {
   "cell_type": "code",
   "execution_count": 115,
   "metadata": {},
   "outputs": [],
   "source": [
    "features = ['PAYMENT_TERM','INSTALLMENT_PERCENT','LOAN_PURPOSE','LOAN_AMOUNT','OTHERS_ON_LOAN','AGE','DEPENDENTS','TELEPHONE','EMPLOYMENT_DURATION',\n",
    "'PROPERTY','HOUSING','CURRENT_RESIDENCE_DURATION']\n",
    "target = ['ALLOW']\n",
    "\n",
    "X = lo_de_clean[features]\n",
    "y = lo_de_clean[target]"
   ]
  },
  {
   "cell_type": "code",
   "execution_count": null,
   "metadata": {},
   "outputs": [],
   "source": [
    "#le_INSTALLMENT_PLANS = LabelEncoder()\n",
    "le_LOAN_PURPOSE = LabelEncoder()\n",
    "le_OTHERS_ON_LOAN = LabelEncoder()\n",
    "#le_SEX = LabelEncoder()\n",
    "le_PROPERTY = LabelEncoder()\n",
    "le_HOUSING = LabelEncoder()"
   ]
  },
  {
   "cell_type": "code",
   "execution_count": 28,
   "metadata": {},
   "outputs": [],
   "source": [
    "features = ['PAYMENT_TERM', 'INSTALLMENT_PERCENT', 'LOAN_AMOUNT']\n",
    "target = ['ALLOW']\n",
    "\n",
    "X = clean_df[features]\n",
    "y = clean_df[target]"
   ]
  },
  {
   "cell_type": "code",
   "execution_count": 29,
   "metadata": {},
   "outputs": [
    {
     "name": "stdout",
     "output_type": "stream",
     "text": [
      "Acurácia do modelo (número de predições assertivas sobre número total de testes): 0.67786391042205\n"
     ]
    }
   ],
   "source": [
    "test_pct = 0.3 # Separaremos 30% dos dados para testes\n",
    "X_train, X_test, y_train, y_test = train_test_split(X, y, test_size=test_pct)\n",
    "\n",
    "model = DecisionTreeClassifier()\n",
    "model.fit(X_train, y_train)\n",
    "\n",
    "y_pred = model.predict(X_test)\n",
    "acc = accuracy_score(y_test, y_pred)\n",
    "print(f\"Acurácia do modelo (número de predições assertivas sobre número total de testes): {acc}\")"
   ]
  },
  {
   "cell_type": "markdown",
   "metadata": {},
   "source": [
    "Apesar de estarmos utilizando somente algumas variáveis do dataset carregado, o desafio espera um modelo que aceite todas as variáveis dos conjuntos de dados disponíveis. Portanto, vamos utilizar um transformador para transformar os dados de entrada, removendo as colunas que não queremos, antes enviá-los ao nosso modelo. Dessa forma, criaremos uma `Pipeline`, que utiliza o transformador como entrada, e o nosso modelo em seguida.\n",
    "\n",
    "Fica como tarefa para você unir os outros conjuntos de dados disponíveis e utilizá-los também para predições no modelo, em vez de remover as colunas."
   ]
  },
  {
   "cell_type": "markdown",
   "metadata": {},
   "source": [
    "## Sobre Pipelines\n",
    "\n",
    "Uma `Pipeline`, da biblioteca `scikit-learn`, consiste em uma série de passos onde realizamos transformações em dados. As transformações são definidas por classes que devem ter sempre **dois métodos**:\n",
    "\n",
    "- **fit**: Um método que recebe dados de treinamento, e retorna a própria instância da classe. Ele é aplicado quando se vai treinar utilizar uma Pipeline para treinar um modelo.\n",
    "- **transform**: Um método que recebe como entrada um conjunto de dados e deve retornar um outro conjunto de dados, transformado. Ele é aplicado em cada etapa da Pipeline, recebendo os dados do passo anterior e transformando-os.\n",
    "\n",
    "Veja abaixo uma representação gráfica do funcionamento de uma Pipeline:"
   ]
  },
  {
   "cell_type": "markdown",
   "metadata": {},
   "source": [
    "![](https://s3.br-sao.cloud-object-storage.appdomain.cloud/maratona-static/pipeline.png)"
   ]
  },
  {
   "cell_type": "markdown",
   "metadata": {},
   "source": [
    "Nesse Notebook, vamos criar uma Pipeline muito similar ao exemplo acima, com dois estágios:\n",
    "\n",
    "- **drop_columns**: Remove as colunas indesejadas do conjunto de dados de entrada.\n",
    "- **classification**: Alimenta um modelo de classificação com os dados obtidos no estágio **drop_columns**, podendo ser tanto para treinamento quanto para obter uma predição."
   ]
  },
  {
   "cell_type": "markdown",
   "metadata": {},
   "source": [
    "## Criação de Pipelines no scikit-learn\n",
    "\n",
    "Para criar um modelo capaz de fazer transformações nos dados de entrada, vamos criar uma `Pipeline` do `scikit-learn` e aplicar nossas transformações dentro dos estágios dela.\n",
    "\n",
    "Abaixo, definimos um transformador exemplo, que irá remover as colunas passadas como parâmetro em sua inicialização:"
   ]
  },
  {
   "cell_type": "code",
   "execution_count": null,
   "metadata": {},
   "outputs": [],
   "source": [
    "from sklearn.base import BaseEstimator, TransformerMixin\n",
    "from sklearn.pipeline import Pipeline\n",
    "\n",
    "\n",
    "# Um transformador para remover colunas indesejadas\n",
    "class DropColumns(BaseEstimator, TransformerMixin):\n",
    "    def __init__(self, columns):\n",
    "        self.columns = columns\n",
    "\n",
    "    def fit(self, X, y=None):\n",
    "        return self\n",
    "\n",
    "    def transform(self, X):\n",
    "        # Primeiro realizamos a cópia do DataFrame 'X' de entrada\n",
    "        data = X.copy()\n",
    "        # Retornamos um novo dataframe sem as colunas indesejadas\n",
    "        return data.drop(labels=self.columns, axis='columns')"
   ]
  },
  {
   "cell_type": "markdown",
   "metadata": {},
   "source": [
    "Tanto o método `fit` quanto o `transform` devem obrigatoriamente ser definidos, mesmo se não forem fazer nada de diferente, como no caso do `fit` acima.\n",
    "\n",
    "Da mesma forma, você pode criar outros transformadores, para outros propósitos, sempre herdando das classes `BaseEstimator` e `TransformerMixin`. Você pode utilizar um transformador para, por exemplo, criar novas colunas, editar tipos de dados de colunas existentes, entre outros.\n",
    "\n",
    "Agora, vamos criar uma Pipeline para utilização do nosso modelo, aceitando todas as colunas esperadas pelo desafio e removendo as que não queremos usar."
   ]
  },
  {
   "cell_type": "code",
   "execution_count": null,
   "metadata": {},
   "outputs": [],
   "source": [
    "challenge_columns = ['ID', 'CHECKING_BALANCE', 'PAYMENT_TERM', 'CREDIT_HISTORY',\n",
    "       'LOAN_PURPOSE', 'LOAN_AMOUNT', 'EXISTING_SAVINGS',\n",
    "       'EMPLOYMENT_DURATION', 'INSTALLMENT_PERCENT', 'SEX', 'OTHERS_ON_LOAN',\n",
    "       'CURRENT_RESIDENCE_DURATION', 'PROPERTY', 'AGE', 'INSTALLMENT_PLANS',\n",
    "       'HOUSING', 'EXISTING_CREDITS_COUNT', 'JOB_TYPE', 'DEPENDENTS',\n",
    "       'TELEPHONE', 'FOREIGN_WORKER', 'ALLOW']\n",
    "\n",
    "unwanted_columns = list((set(challenge_columns) - set(target)) - set(features)) # Remover todas as colunas que não são features do nosso modelo"
   ]
  },
  {
   "cell_type": "code",
   "execution_count": null,
   "metadata": {},
   "outputs": [],
   "source": [
    "# Criando uma instância do transformador, passando como parâmetro as colunas que não queremos\n",
    "drop_columns = DropColumns(unwanted_columns)\n",
    "\n",
    "\n",
    "# Criando a Pipeline, adicionando o nosso transformador seguido de um modelo de árvore de decisão\n",
    "skl_pipeline = Pipeline(steps=[('drop_columns', drop_columns), ('classification', model)])"
   ]
  },
  {
   "cell_type": "markdown",
   "metadata": {},
   "source": [
    "Pronto! Essa pipeline agora está pronta para receber todas as variáveis do desafio, apesar de o modelo só usar algumas."
   ]
  },
  {
   "cell_type": "markdown",
   "metadata": {},
   "source": [
    "## Deploy do modelo para o Watson Machine Learning (WML)\n",
    "\n",
    "Agora temos o modelo pronto para publicação, queremos deixá-lo online para que o sistema da Maratona possa testá-lo :)\n",
    "\n",
    "Para isso, vamos utilizar a biblioteca `IBM Watson Machine Learning`, que permite realizar o encapsulamento de modelos de Machine Learning em APIs REST.\n"
   ]
  },
  {
   "cell_type": "code",
   "execution_count": null,
   "metadata": {},
   "outputs": [],
   "source": [
    "# Instalar a biblioteca do WML\n",
    "!pip install -U ibm-watson-machine-learning"
   ]
  },
  {
   "cell_type": "code",
   "execution_count": null,
   "metadata": {},
   "outputs": [],
   "source": [
    "from ibm_watson_machine_learning import APIClient"
   ]
  },
  {
   "cell_type": "markdown",
   "metadata": {},
   "source": [
    "Caso ainda não tiver criado, crie um serviço de Machine Learning aqui: https://cloud.ibm.com/catalog/services/machine-learning.\n",
    "\n",
    "Insira suas credenciais para o serviço na célula abaixo.\n",
    "\n",
    "Em `location`, insira o ID da região onde se encontra o seu serviço WML instanciado, de acordo com as possibilidades abaixo:\n",
    "\n",
    "- Dallas - `us-south`\n",
    "- London - `eu-gb`\n",
    "- Frankfurt - `eu-de`\n",
    "- Tokyo - `jp-tok`\n",
    "\n",
    "Para a API key, você deve gerá-la aqui: https://cloud.ibm.com/iam/apikeys. Não compartilhe-a com ninguém! Uma API key dá acesso à sua conta IBM Cloud."
   ]
  },
  {
   "cell_type": "code",
   "execution_count": null,
   "metadata": {},
   "outputs": [],
   "source": [
    "api_key = 'INSIRA SUA API KEY AQUI'\n",
    "location = 'us-south' # Caso o WML estiver em uma região diferente, altere\n",
    "\n",
    "wml_credentials = {\n",
    "    \"apikey\": api_key,\n",
    "    \"url\": 'https://' + location + '.ml.cloud.ibm.com'\n",
    "}\n",
    "\n",
    "client = APIClient(wml_credentials)"
   ]
  },
  {
   "cell_type": "markdown",
   "metadata": {},
   "source": [
    "Crie um espaço para salvar o seu modelo. Você pode criá-lo aqui: https://dataplatform.cloud.ibm.com/ml-runtime/spaces?context=cpdaas\n",
    "\n",
    "Quando criar o seu espaço, **associe a instância do seu serviço WML ao espaço!** Sem associar, você não conseguirá efetuar o deploy."
   ]
  },
  {
   "cell_type": "code",
   "execution_count": null,
   "metadata": {},
   "outputs": [],
   "source": [
    "# Listar espaços criados na sua instância de WML\n",
    "client.spaces.list(limit=10)"
   ]
  },
  {
   "cell_type": "markdown",
   "metadata": {},
   "source": [
    "Copie o ID do seu espaço criado para o desafio e cole-o abaixo para utilizá-lo. Você deverá ver a mensagem 'SUCCESS' se o espaço estiver corretamente configurado."
   ]
  },
  {
   "cell_type": "code",
   "execution_count": null,
   "metadata": {},
   "outputs": [],
   "source": [
    "space_id = 'cole aqui'\n",
    "client.set.default_space(space_id)"
   ]
  },
  {
   "cell_type": "markdown",
   "metadata": {},
   "source": [
    "## Utilização da Pipeline dentro do Watson Machine Learning (WML)\n",
    "\n",
    "Para utilizar uma Pipeline no WML com transformadores customizados, são necessários alguns passos adicionais:\n",
    "\n",
    "1. Criar um pacote no Python contendo o transformador customizado;\n",
    "2. Carregar esse pacote com o transformador em um repositório no WML;\n",
    "3. Criar uma especificação de software, com esse pacote customizado, que vai ser utilizada como tempo de execução do modelo no WML.\n",
    "\n",
    "Como exemplo, vamos utilizar um pacote já pronto, disponível aqui: https://github.com/vnderlev/watson-sklearn-transforms. Para configurar o pacote Python, são necessários alguns outros arquivos, mas a lógica do transformador criado se encontra [neste arquivo](https://github.com/vnderlev/watson-sklearn-transforms/blob/master/my_custom_sklearn_transforms/sklearn_transformers.py). No caso, esse é o mesmo transformador que definimos aqui, ele vai excluir do conjunto de dados as colunas passadas como parâmetro na sua inicialização.\n",
    "\n",
    "Abaixo, vamos baixar esse pacote do GitHub e instalá-lo no Python."
   ]
  },
  {
   "cell_type": "code",
   "execution_count": null,
   "metadata": {},
   "outputs": [],
   "source": [
    "!rm -rf watson-sklearn-transforms # Remover a pasta caso já exista\n",
    "!git clone https://github.com/vnderlev/watson-sklearn-transforms # Clonar o repositório com o pacote\n",
    "!zip -r drop-columns.zip watson-sklearn-transforms # Zipar o pacote\n",
    "!pip install drop-columns.zip # Instalar o pacote zipado"
   ]
  },
  {
   "cell_type": "markdown",
   "metadata": {},
   "source": [
    "Vamos agora recriar nossa Pipeline utilizando esse pacote instalado."
   ]
  },
  {
   "cell_type": "code",
   "execution_count": null,
   "metadata": {},
   "outputs": [],
   "source": [
    "from my_custom_sklearn_transforms.sklearn_transformers import DropColumns\n",
    "\n",
    "drop_columns = DropColumns(unwanted_columns)\n",
    "\n",
    "pipeline = Pipeline(steps=[('drop_columns', drop_columns), ('classification', model)])"
   ]
  },
  {
   "cell_type": "markdown",
   "metadata": {},
   "source": [
    "Vamos agora subir o transformador customizado que baixamos para o WML."
   ]
  },
  {
   "cell_type": "code",
   "execution_count": null,
   "metadata": {},
   "outputs": [],
   "source": [
    "# Metadados para o pacote customizado\n",
    "meta_prop_pkg_extn = {\n",
    "    client.package_extensions.ConfigurationMetaNames.NAME: \"Drop_Columns\",\n",
    "    client.package_extensions.ConfigurationMetaNames.DESCRIPTION: \"Extensão para remover colunas\",\n",
    "    client.package_extensions.ConfigurationMetaNames.TYPE: \"pip_zip\"\n",
    "}\n",
    "\n",
    "# Subir o pacote\n",
    "pkg_extn_details = client.package_extensions.store(meta_props=meta_prop_pkg_extn, file_path=\"drop-columns.zip\")\n",
    "\n",
    "# Salvar as informações sobre o pacote\n",
    "pkg_extn_uid = client.package_extensions.get_uid(pkg_extn_details)\n",
    "pkg_extn_url = client.package_extensions.get_href(pkg_extn_details)"
   ]
  },
  {
   "cell_type": "markdown",
   "metadata": {},
   "source": [
    "Vamos agora criar uma especificação de software com o nosso pacote customizado, para que o WML possa utilizar. Caso estiver utilizando um software diferente de `Python 3.8` ou biblioteca diferente de `scikit-learn`, você pode dar uma olhada na lista de especificações de software suportadas pelo WML: https://dataplatform.cloud.ibm.com/docs/content/wsj/wmls/wmls-deploy-python-types.html?context=analytics&audience=wdp"
   ]
  },
  {
   "cell_type": "code",
   "execution_count": null,
   "metadata": {},
   "outputs": [],
   "source": [
    "base_sw_spec_uid = client.software_specifications.get_uid_by_name(\"default_py3.8\")\n",
    "\n",
    "# Caso queira utilizar um software diferente de Python 3.8 como base, dê uma olhada nos disponíveis com a linha abaixo\n",
    "# client.software_specifications.list(limit=100)"
   ]
  },
  {
   "cell_type": "code",
   "execution_count": null,
   "metadata": {},
   "outputs": [],
   "source": [
    "# Metadados da nova especificação de software\n",
    "meta_prop_sw_spec = {\n",
    "    client.software_specifications.ConfigurationMetaNames.NAME: \"sw_spec_drop_columns\",\n",
    "    client.software_specifications.ConfigurationMetaNames.DESCRIPTION: \"Software specification utilizando DropColumns\",\n",
    "    client.software_specifications.ConfigurationMetaNames.BASE_SOFTWARE_SPECIFICATION: {\"guid\": base_sw_spec_uid}\n",
    "}\n",
    "\n",
    "# Criando a nova especificação de software e obtendo seu ID\n",
    "sw_spec_details = client.software_specifications.store(meta_props=meta_prop_sw_spec)\n",
    "sw_spec_uid = client.software_specifications.get_uid(sw_spec_details)\n",
    "\n",
    "# Adicionando o pacote customizado à nova especificação\n",
    "client.software_specifications.add_package_extension(sw_spec_uid, pkg_extn_uid)"
   ]
  },
  {
   "cell_type": "markdown",
   "metadata": {},
   "source": [
    "Finalmente, vamos publicar a pipeline utilizando a especificação de software customizada que criamos."
   ]
  },
  {
   "cell_type": "code",
   "execution_count": null,
   "metadata": {},
   "outputs": [],
   "source": [
    "# Metadados do modelo\n",
    "model_props = {\n",
    "    client.repository.ModelMetaNames.NAME: \"Modelo com Pipeline customizada\",\n",
    "    client.repository.ModelMetaNames.TYPE: 'scikit-learn_0.23',\n",
    "    client.repository.ModelMetaNames.SOFTWARE_SPEC_UID: sw_spec_uid\n",
    "}\n",
    "\n",
    "# Publicando a Pipeline como um modelo\n",
    "published_model = client.repository.store_model(model=pipeline, meta_props=model_props)\n",
    "published_model_uid = client.repository.get_model_uid(published_model)\n",
    "client.repository.get_details(published_model_uid)"
   ]
  },
  {
   "cell_type": "markdown",
   "metadata": {},
   "source": [
    "Seu modelo agora está salvo. Vamos agora deixá-lo disponível online, para que possamos testá-lo:"
   ]
  },
  {
   "cell_type": "code",
   "execution_count": null,
   "metadata": {},
   "outputs": [],
   "source": [
    "# Metadados para publicação do modelo\n",
    "metadata = {\n",
    "    client.deployments.ConfigurationMetaNames.NAME: \"Publicação do modelo customizado\",\n",
    "    client.deployments.ConfigurationMetaNames.ONLINE: {}\n",
    "}\n",
    "\n",
    "# Publicar\n",
    "created_deployment = client.deployments.create(published_model_uid, meta_props=metadata)"
   ]
  },
  {
   "cell_type": "markdown",
   "metadata": {},
   "source": [
    "## Parabéns!\n",
    "\n",
    "Seu modelo está agora publicado. Quando estiver pronto para submeter o desafio, você pode acessar https://maratona.dev/challenges/1, e utilizar as credenciais abaixo para realizar a submissão. Lembre-se de revisar todas as instruções no [README](https://github.com/maratonadev/desafio-1-2021) antes de submeter!"
   ]
  },
  {
   "cell_type": "code",
   "execution_count": null,
   "metadata": {},
   "outputs": [],
   "source": [
    "deployment_uid = client.deployments.get_uid(created_deployment)\n",
    "\n",
    "print(f\"Credenciais para envio (não compartilhe esses dados com ninguém!)\\n\\nAPI key: {api_key}\\nDeployment ID: {deployment_uid}\")"
   ]
  },
  {
   "cell_type": "code",
   "execution_count": null,
   "metadata": {},
   "outputs": [],
   "source": []
  }
 ],
 "metadata": {
  "interpreter": {
   "hash": "5768b446dddade2cb79ed0447ec549b2d93198858daeef376aa9ae96b41a1e93"
  },
  "kernelspec": {
   "display_name": "Python 3.9.7 64-bit (windows store)",
   "name": "python3"
  },
  "language_info": {
   "codemirror_mode": {
    "name": "ipython",
    "version": 3
   },
   "file_extension": ".py",
   "mimetype": "text/x-python",
   "name": "python",
   "nbconvert_exporter": "python",
   "pygments_lexer": "ipython3",
   "version": "3.9.7"
  }
 },
 "nbformat": 4,
 "nbformat_minor": 1
}
