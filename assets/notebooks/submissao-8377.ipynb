{
 "cells": [
  {
   "cell_type": "markdown",
   "metadata": {
    "collapsed": true
   },
   "source": [
    "# Desafio 1 - Maratona Behind the Code 2021\n",
    "\n",
    "### Notebook guia\n",
    "\n",
    "Esse Jupyter Notebook te dará instruções para criar uma solução introdutória para o desafio 1 da Maratona. Sinta-se livre para editar e melhorar sua solução!\n"
   ]
  },
  {
   "cell_type": "markdown",
   "metadata": {},
   "source": [
    "## Exploração do dataset\n",
    "\n",
    "O primeiro passo para o desenvolvimento de um bom modelo de Machine Learning é explorar bem os dados que temos para trabalhar. Devemos entender o melhor possível a relevância de cada dado para o valor que queremos predizer. Afinal, a predição do modelo é inteiramente baseada nos dados com que treinou.\n",
    "\n",
    "Existem muitas bibliotecas em Python que podem ser utilizadas para tratamento e visualização de dados. Nesses exemplos, vamos usar Pandas, Seaborn e Matplotlib."
   ]
  },
  {
   "cell_type": "code",
   "execution_count": 193,
   "metadata": {},
   "outputs": [],
   "source": [
    "import pandas as pd\n",
    "import matplotlib.pyplot as plt\n",
    "import seaborn as sns\n",
    "import numpy as np"
   ]
  },
  {
   "cell_type": "code",
   "execution_count": 194,
   "metadata": {
    "scrolled": true
   },
   "outputs": [],
   "source": [
    "# Carregue aqui o dataset\n",
    "loans = pd.read_csv(\"..\\data\\loans.csv\")\n",
    "demogra = pd.read_csv(\"..\\data\\Demographics.csv\")\n",
    "accounts = pd.read_csv(\"..\\data\\Accounts.csv\")\n",
    "result = pd.read_csv(\"..\\data\\ANSWERS.csv\")"
   ]
  },
  {
   "cell_type": "markdown",
   "metadata": {},
   "source": [
    "Podemos usar os métodos `.info()` e `.describe()` para obter informações básicas sobre quantidade presente dos dados, tipos e valores deles."
   ]
  },
  {
   "cell_type": "code",
   "execution_count": 195,
   "metadata": {},
   "outputs": [
    {
     "name": "stdout",
     "output_type": "stream",
     "text": [
      "<class 'pandas.core.frame.DataFrame'>\n",
      "RangeIndex: 3999 entries, 0 to 3998\n",
      "Data columns (total 8 columns):\n",
      " #   Column               Non-Null Count  Dtype  \n",
      "---  ------               --------------  -----  \n",
      " 0   ID                   3999 non-null   int64  \n",
      " 1   PAYMENT_TERM         3975 non-null   float64\n",
      " 2   INSTALLMENT_PLANS    3978 non-null   object \n",
      " 3   INSTALLMENT_PERCENT  3974 non-null   float64\n",
      " 4   LOAN_PURPOSE         3979 non-null   object \n",
      " 5   LOAN_AMOUNT          3981 non-null   float64\n",
      " 6   OTHERS_ON_LOAN       3977 non-null   object \n",
      " 7   ALLOW                3999 non-null   int64  \n",
      "dtypes: float64(3), int64(2), object(3)\n",
      "memory usage: 250.1+ KB\n"
     ]
    }
   ],
   "source": [
    "loans.info()"
   ]
  },
  {
   "cell_type": "code",
   "execution_count": 196,
   "metadata": {},
   "outputs": [
    {
     "data": {
      "text/html": [
       "<div>\n",
       "<style scoped>\n",
       "    .dataframe tbody tr th:only-of-type {\n",
       "        vertical-align: middle;\n",
       "    }\n",
       "\n",
       "    .dataframe tbody tr th {\n",
       "        vertical-align: top;\n",
       "    }\n",
       "\n",
       "    .dataframe thead th {\n",
       "        text-align: right;\n",
       "    }\n",
       "</style>\n",
       "<table border=\"1\" class=\"dataframe\">\n",
       "  <thead>\n",
       "    <tr style=\"text-align: right;\">\n",
       "      <th></th>\n",
       "      <th>ID</th>\n",
       "      <th>PAYMENT_TERM</th>\n",
       "      <th>INSTALLMENT_PERCENT</th>\n",
       "      <th>LOAN_AMOUNT</th>\n",
       "      <th>ALLOW</th>\n",
       "    </tr>\n",
       "  </thead>\n",
       "  <tbody>\n",
       "    <tr>\n",
       "      <th>count</th>\n",
       "      <td>3.999000e+03</td>\n",
       "      <td>3975.000000</td>\n",
       "      <td>3974.000000</td>\n",
       "      <td>3981.000000</td>\n",
       "      <td>3999.000000</td>\n",
       "    </tr>\n",
       "    <tr>\n",
       "      <th>mean</th>\n",
       "      <td>6.603562e+05</td>\n",
       "      <td>653.796981</td>\n",
       "      <td>2.981379</td>\n",
       "      <td>3479.168802</td>\n",
       "      <td>0.664166</td>\n",
       "    </tr>\n",
       "    <tr>\n",
       "      <th>std</th>\n",
       "      <td>3.728332e+05</td>\n",
       "      <td>338.723239</td>\n",
       "      <td>1.121448</td>\n",
       "      <td>2489.961917</td>\n",
       "      <td>0.472340</td>\n",
       "    </tr>\n",
       "    <tr>\n",
       "      <th>min</th>\n",
       "      <td>9.800000e+01</td>\n",
       "      <td>120.000000</td>\n",
       "      <td>1.000000</td>\n",
       "      <td>250.000000</td>\n",
       "      <td>0.000000</td>\n",
       "    </tr>\n",
       "    <tr>\n",
       "      <th>25%</th>\n",
       "      <td>3.418460e+05</td>\n",
       "      <td>390.000000</td>\n",
       "      <td>2.000000</td>\n",
       "      <td>1330.000000</td>\n",
       "      <td>0.000000</td>\n",
       "    </tr>\n",
       "    <tr>\n",
       "      <th>50%</th>\n",
       "      <td>6.670610e+05</td>\n",
       "      <td>651.000000</td>\n",
       "      <td>3.000000</td>\n",
       "      <td>3237.000000</td>\n",
       "      <td>1.000000</td>\n",
       "    </tr>\n",
       "    <tr>\n",
       "      <th>75%</th>\n",
       "      <td>9.778745e+05</td>\n",
       "      <td>899.000000</td>\n",
       "      <td>4.000000</td>\n",
       "      <td>5334.000000</td>\n",
       "      <td>1.000000</td>\n",
       "    </tr>\n",
       "    <tr>\n",
       "      <th>max</th>\n",
       "      <td>1.320082e+06</td>\n",
       "      <td>1984.000000</td>\n",
       "      <td>6.000000</td>\n",
       "      <td>11676.000000</td>\n",
       "      <td>1.000000</td>\n",
       "    </tr>\n",
       "  </tbody>\n",
       "</table>\n",
       "</div>"
      ],
      "text/plain": [
       "                 ID  PAYMENT_TERM  INSTALLMENT_PERCENT   LOAN_AMOUNT  \\\n",
       "count  3.999000e+03   3975.000000          3974.000000   3981.000000   \n",
       "mean   6.603562e+05    653.796981             2.981379   3479.168802   \n",
       "std    3.728332e+05    338.723239             1.121448   2489.961917   \n",
       "min    9.800000e+01    120.000000             1.000000    250.000000   \n",
       "25%    3.418460e+05    390.000000             2.000000   1330.000000   \n",
       "50%    6.670610e+05    651.000000             3.000000   3237.000000   \n",
       "75%    9.778745e+05    899.000000             4.000000   5334.000000   \n",
       "max    1.320082e+06   1984.000000             6.000000  11676.000000   \n",
       "\n",
       "             ALLOW  \n",
       "count  3999.000000  \n",
       "mean      0.664166  \n",
       "std       0.472340  \n",
       "min       0.000000  \n",
       "25%       0.000000  \n",
       "50%       1.000000  \n",
       "75%       1.000000  \n",
       "max       1.000000  "
      ]
     },
     "execution_count": 196,
     "metadata": {},
     "output_type": "execute_result"
    }
   ],
   "source": [
    "loans.describe()"
   ]
  },
  {
   "cell_type": "markdown",
   "metadata": {},
   "source": [
    "A variável destino para este desafio é a `ALLOW`, significando se um empréstimo deverá ser permitido ou não, baseado nas informações dadas. Vamos dar uma olhada em como está a distribuição dessa variável"
   ]
  },
  {
   "cell_type": "code",
   "execution_count": 197,
   "metadata": {},
   "outputs": [
    {
     "data": {
      "image/png": "[encoded data removed]",
      "text/plain": [
       "<Figure size 432x288 with 1 Axes>"
      ]
     },
     "metadata": {
      "needs_background": "light"
     },
     "output_type": "display_data"
    }
   ],
   "source": [
    "risk_plot = sns.countplot(data=loans, x='ALLOW', order=loans['ALLOW'].value_counts().index)\n",
    "plt.show()"
   ]
  },
  {
   "cell_type": "markdown",
   "metadata": {},
   "source": [
    "Sinta-se livre para ver a distribuição de outras colunas do conjunto de dados, utilizar os outros conjuntos de dados, explorar as correlações entre variáveis e outros."
   ]
  },
  {
   "cell_type": "code",
   "execution_count": 198,
   "metadata": {},
   "outputs": [],
   "source": [
    "# Adicione suas explorações"
   ]
  },
  {
   "cell_type": "code",
   "execution_count": 199,
   "metadata": {},
   "outputs": [],
   "source": [
    "lo_de = loans.merge(demogra)"
   ]
  },
  {
   "cell_type": "code",
   "execution_count": 201,
   "metadata": {},
   "outputs": [],
   "source": [
    "lo_de_ac = lo_de.merge(accounts, on='ID', how='left')"
   ]
  },
  {
   "cell_type": "code",
   "execution_count": 202,
   "metadata": {},
   "outputs": [
    {
     "data": {
      "text/plain": [
       "ID                            3936\n",
       "PAYMENT_TERM                  3912\n",
       "INSTALLMENT_PLANS             3915\n",
       "INSTALLMENT_PERCENT           3911\n",
       "LOAN_PURPOSE                  3917\n",
       "LOAN_AMOUNT                   3918\n",
       "OTHERS_ON_LOAN                3914\n",
       "ALLOW                         3936\n",
       "SEX                           3920\n",
       "AGE                           3918\n",
       "JOB_TYPE                      3910\n",
       "DEPENDENTS                    3915\n",
       "TELEPHONE                     3915\n",
       "FOREIGN_WORKER                3909\n",
       "EMPLOYMENT_DURATION           3923\n",
       "PROPERTY                      3918\n",
       "HOUSING                       3912\n",
       "CURRENT_RESIDENCE_DURATION    3917\n",
       "CHECKING_BALANCE              2467\n",
       "CREDIT_HISTORY                2462\n",
       "EXISTING_SAVINGS              2467\n",
       "EXISTING_CREDITS_COUNT        2463\n",
       "dtype: int64"
      ]
     },
     "execution_count": 202,
     "metadata": {},
     "output_type": "execute_result"
    }
   ],
   "source": [
    "lo_de_ac.count()"
   ]
  },
  {
   "cell_type": "markdown",
   "metadata": {},
   "source": [
    "## Tratamento dos dados"
   ]
  },
  {
   "cell_type": "code",
   "execution_count": 203,
   "metadata": {},
   "outputs": [],
   "source": [
    "clean_df = lo_de_ac.copy()"
   ]
  },
  {
   "cell_type": "code",
   "execution_count": 216,
   "metadata": {},
   "outputs": [],
   "source": [
    "clean_df['PAYMENT_TERM_n'] = clean_df.PAYMENT_TERM.fillna(clean_df.PAYMENT_TERM.mean())\n",
    "clean_df['INSTALLMENT_PLANS_n'] = clean_df.INSTALLMENT_PLANS.fillna(\"NONE\")\n",
    "clean_df['INSTALLMENT_PERCENT_n'] = clean_df.INSTALLMENT_PERCENT.fillna(clean_df.INSTALLMENT_PERCENT.median())\n",
    "clean_df['LOAN_PURPOSE_n'] = clean_df.LOAN_PURPOSE.fillna(\"NONE\")\n",
    "clean_df['LOAN_AMOUNT_n'] = clean_df.LOAN_AMOUNT.fillna(clean_df.LOAN_AMOUNT.median())\n",
    "clean_df['OTHERS_ON_LOAN_n'] = clean_df.OTHERS_ON_LOAN.fillna(\"NONE\")\n",
    "clean_df.dropna(subset=['SEX'], inplace=True)\n",
    "clean_df['AGE_n'] = clean_df.AGE.fillna(clean_df.AGE.mean())\n",
    "clean_df['JOB_TYPE_n'] = clean_df.JOB_TYPE.fillna(clean_df.JOB_TYPE.median())\n",
    "clean_df['DEPENDENTS_n'] = clean_df.DEPENDENTS.fillna(\"0\").astype('int64')\n",
    "clean_df['TELEPHONE_n'] = clean_df.TELEPHONE.fillna(\"0\").astype('int64')\n",
    "clean_df['FOREIGN_WORKER_n'] = clean_df.FOREIGN_WORKER.fillna(\"0\").astype('int64')\n",
    "clean_df['EMPLOYMENT_DURATION_n'] = clean_df.EMPLOYMENT_DURATION.fillna(\"0\").astype('int64')\n",
    "clean_df['PROPERTY_n'] = clean_df.PROPERTY.fillna(\"UNKNOWN\")\n",
    "clean_df['HOUSING_n'] = clean_df.HOUSING.fillna(\"UNKNOWN\")\n",
    "clean_df['CURRENT_RESIDENCE_DURATION_n'] = clean_df.CURRENT_RESIDENCE_DURATION.fillna(clean_df.CURRENT_RESIDENCE_DURATION.mean())"
   ]
  },
  {
   "cell_type": "code",
   "execution_count": 217,
   "metadata": {},
   "outputs": [],
   "source": [
    "clean_df['CHECKING_BALANCE_n'] = clean_df.CHECKING_BALANCE.apply(lambda x: 0 if x == 'NO_CHECKING' else x )\n",
    "clean_df['CHECKING_BALANCE_n'] = clean_df.CHECKING_BALANCE_n.fillna(clean_df.CHECKING_BALANCE_n.astype('float').mean())\n",
    "clean_df['CHECKING_BALANCE_n2'] = clean_df.CHECKING_BALANCE_n.astype('float')\n",
    "clean_df['CREDIT_HISTORY_n'] = clean_df.CREDIT_HISTORY.fillna(\"UNKNOWN\")\n",
    "clean_df['EXISTING_SAVINGS_n'] = clean_df.EXISTING_SAVINGS.apply(lambda x: -1 if x == 'UNKNOWN' else x )\n",
    "clean_df['EXISTING_SAVINGS_n'] = clean_df.EXISTING_SAVINGS_n.fillna(-1).astype('float')\n",
    "clean_df['EXISTING_CREDITS_COUNT_n'] = clean_df.EXISTING_CREDITS_COUNT.fillna(-1).astype('float')"
   ]
  },
  {
   "cell_type": "code",
   "execution_count": 218,
   "metadata": {},
   "outputs": [],
   "source": [
    "object_columns = ['PAYMENT_TERM','INSTALLMENT_PLANS', 'INSTALLMENT_PERCENT',\n",
    "       'LOAN_PURPOSE', 'LOAN_AMOUNT', 'OTHERS_ON_LOAN', 'AGE',\n",
    "       'JOB_TYPE', 'DEPENDENTS', 'TELEPHONE', 'FOREIGN_WORKER',\n",
    "       'EMPLOYMENT_DURATION', 'PROPERTY', 'HOUSING',\n",
    "       'CURRENT_RESIDENCE_DURATION', 'CHECKING_BALANCE','CHECKING_BALANCE_n','CREDIT_HISTORY','EXISTING_SAVINGS',\n",
    "       'EXISTING_CREDITS_COUNT']\n",
    "clean_df = clean_df.drop(object_columns, axis=1)\n",
    "clean_df = clean_df.drop('ID', axis=1)"
   ]
  },
  {
   "cell_type": "code",
   "execution_count": 147,
   "metadata": {},
   "outputs": [
    {
     "data": {
      "text/plain": [
       "Index(['SEX', 'ALLOW', 'PAYMENT_TERM_n', 'INSTALLMENT_PLANS_n',\n",
       "       'INSTALLMENT_PERCENT_n', 'LOAN_PURPOSE_n', 'LOAN_AMOUNT_n',\n",
       "       'OTHERS_ON_LOAN_n', 'AGE_n', 'JOB_TYPE_n', 'DEPENDENTS_n',\n",
       "       'TELEPHONE_n', 'FOREIGN_WORKER_n', 'EMPLOYMENT_DURATION_n',\n",
       "       'PROPERTY_n', 'HOUSING_n', 'CURRENT_RESIDENCE_DURATION_n',\n",
       "       'CHECKING_BALANCE_n2', 'CREDIT_HISTORY_n', 'EXISTING_SAVINGS_n',\n",
       "       'EXISTING_CREDITS_COUNT_n'],\n",
       "      dtype='object')"
      ]
     },
     "execution_count": 147,
     "metadata": {},
     "output_type": "execute_result"
    }
   ],
   "source": [
    "clean_df.columns"
   ]
  },
  {
   "cell_type": "markdown",
   "metadata": {},
   "source": [
    "### Usando One-Hot Encoding"
   ]
  },
  {
   "cell_type": "code",
   "execution_count": 219,
   "metadata": {},
   "outputs": [],
   "source": [
    "# from sklearn.preprocessing import OneHotEncoder, OrdinalEncoder, LabelEncoder\n",
    "temp_n = pd.get_dummies(clean_df, columns=['INSTALLMENT_PLANS_n', 'SEX',\n",
    "    'LOAN_PURPOSE_n','OTHERS_ON_LOAN_n','PROPERTY_n','HOUSING_n','CREDIT_HISTORY_n'])"
   ]
  },
  {
   "cell_type": "code",
   "execution_count": 170,
   "metadata": {},
   "outputs": [
    {
     "data": {
      "text/plain": [
       "ALLOW                                      0\n",
       "PAYMENT_TERM_n                             0\n",
       "INSTALLMENT_PERCENT_n                      0\n",
       "LOAN_AMOUNT_n                              0\n",
       "AGE_n                                      0\n",
       "JOB_TYPE_n                                 0\n",
       "DEPENDENTS_n                               0\n",
       "TELEPHONE_n                                0\n",
       "FOREIGN_WORKER_n                           0\n",
       "EMPLOYMENT_DURATION_n                      0\n",
       "CURRENT_RESIDENCE_DURATION_n               0\n",
       "CHECKING_BALANCE_n2                        0\n",
       "EXISTING_SAVINGS_n                         0\n",
       "EXISTING_CREDITS_COUNT_n                   0\n",
       "INSTALLMENT_PLANS_n_BANK                   0\n",
       "INSTALLMENT_PLANS_n_NONE                   0\n",
       "INSTALLMENT_PLANS_n_STORES                 0\n",
       "SEX_F                                      0\n",
       "SEX_M                                      0\n",
       "LOAN_PURPOSE_n_APPLIANCES                  0\n",
       "LOAN_PURPOSE_n_BUSINESS                    0\n",
       "LOAN_PURPOSE_n_CAR_NEW                     0\n",
       "LOAN_PURPOSE_n_CAR_USED                    0\n",
       "LOAN_PURPOSE_n_EDUCATION                   0\n",
       "LOAN_PURPOSE_n_FURNITURE                   0\n",
       "LOAN_PURPOSE_n_NONE                        0\n",
       "LOAN_PURPOSE_n_OTHER                       0\n",
       "LOAN_PURPOSE_n_RADIO_TV                    0\n",
       "LOAN_PURPOSE_n_REPAIRS                     0\n",
       "LOAN_PURPOSE_n_RETRAINING                  0\n",
       "LOAN_PURPOSE_n_VACATION                    0\n",
       "OTHERS_ON_LOAN_n_CO-APPLICANT              0\n",
       "OTHERS_ON_LOAN_n_GUARANTOR                 0\n",
       "OTHERS_ON_LOAN_n_NONE                      0\n",
       "PROPERTY_n_CAR_OTHER                       0\n",
       "PROPERTY_n_REAL_ESTATE                     0\n",
       "PROPERTY_n_SAVINGS_INSURANCE               0\n",
       "PROPERTY_n_UNKNOWN                         0\n",
       "HOUSING_n_FREE                             0\n",
       "HOUSING_n_OWN                              0\n",
       "HOUSING_n_RENT                             0\n",
       "HOUSING_n_UNKNOWN                          0\n",
       "CREDIT_HISTORY_n_ALL_CREDITS_PAID_BACK     0\n",
       "CREDIT_HISTORY_n_CREDITS_PAID_TO_DATE      0\n",
       "CREDIT_HISTORY_n_NO_CREDITS                0\n",
       "CREDIT_HISTORY_n_OUTSTANDING_CREDIT        0\n",
       "CREDIT_HISTORY_n_PRIOR_PAYMENTS_DELAYED    0\n",
       "CREDIT_HISTORY_n_UNKNOWN                   0\n",
       "dtype: int64"
      ]
     },
     "execution_count": 170,
     "metadata": {},
     "output_type": "execute_result"
    }
   ],
   "source": [
    "temp_n.isnull().sum()"
   ]
  },
  {
   "cell_type": "markdown",
   "metadata": {},
   "source": [
    "### Feature selection"
   ]
  },
  {
   "cell_type": "code",
   "execution_count": 179,
   "metadata": {},
   "outputs": [],
   "source": [
    "Y_train = y_train.copy()\n",
    "Y_test = y_test.copy()"
   ]
  },
  {
   "cell_type": "code",
   "execution_count": 180,
   "metadata": {},
   "outputs": [
    {
     "name": "stdout",
     "output_type": "stream",
     "text": [
      "Chosen best features by rfe: Index(['PAYMENT_TERM_n', 'INSTALLMENT_PERCENT_n', 'LOAN_AMOUNT_n', 'SEX_M',\n",
      "       'AGE_n', 'JOB_TYPE_n', 'TELEPHONE_n', 'EMPLOYMENT_DURATION_n',\n",
      "       'CURRENT_RESIDENCE_DURATION_n', 'CHECKING_BALANCE_n2',\n",
      "       'EXISTING_SAVINGS_n', 'EXISTING_CREDITS_COUNT_n',\n",
      "       'OTHERS_ON_LOAN_n_NONE', 'PROPERTY_n_CAR_OTHER',\n",
      "       'PROPERTY_n_REAL_ESTATE', 'PROPERTY_n_SAVINGS_INSURANCE',\n",
      "       'HOUSING_n_OWN'],\n",
      "      dtype='object')\n"
     ]
    }
   ],
   "source": [
    "from sklearn.feature_selection import RFE\n",
    "# Create the RFE object and rank each pixel\n",
    "clf_rf_3 = RandomForestClassifier()      \n",
    "rfe = RFE(estimator=clf_rf_3, n_features_to_select=17, step=1)\n",
    "rfe = rfe.fit(X_train, Y_train)\n",
    "print('Chosen best features by rfe:',X_train.columns[rfe.support_])"
   ]
  },
  {
   "cell_type": "code",
   "execution_count": 181,
   "metadata": {},
   "outputs": [
    {
     "name": "stdout",
     "output_type": "stream",
     "text": [
      "Accuracy is:  0.7899659863945578\n"
     ]
    },
    {
     "data": {
      "image/png": "[encoded data removed]",
      "text/plain": [
       "<Figure size 432x288 with 2 Axes>"
      ]
     },
     "metadata": {
      "needs_background": "light"
     },
     "output_type": "display_data"
    }
   ],
   "source": [
    "xtrain_5features = X_train[X_train.columns[rfe.support_]]\n",
    "X_test_5features = X_test[X_train.columns[rfe.support_]]\n",
    "#random forest classifier with n_estimators=10 (default)\n",
    "clf_rf = RandomForestClassifier(random_state=43)      \n",
    "clr_rf = clf_rf.fit(xtrain_5features,Y_train)\n",
    "ac = accuracy_score(Y_test,clf_rf.predict(X_test_5features))\n",
    "print('Accuracy is: ',ac)\n",
    "cm = confusion_matrix(Y_test,clf_rf.predict(X_test_5features))\n",
    "sns.heatmap(cm,annot=True,fmt=\"d\")\n",
    "plt.show()"
   ]
  },
  {
   "cell_type": "code",
   "execution_count": 182,
   "metadata": {},
   "outputs": [
    {
     "name": "stderr",
     "output_type": "stream",
     "text": [
      "C:\\Users\\a362014\\AppData\\Local\\Packages\\PythonSoftwareFoundation.Python.3.9_qbz5n2kfra8p0\\LocalCache\\local-packages\\Python39\\site-packages\\sklearn\\base.py:445: UserWarning: X does not have valid feature names, but RFECV was fitted with feature names\n",
      "  warnings.warn(\n"
     ]
    },
    {
     "name": "stdout",
     "output_type": "stream",
     "text": [
      "Optimal number of features : 32\n",
      "Best features : Index(['PAYMENT_TERM_n', 'INSTALLMENT_PERCENT_n', 'LOAN_AMOUNT_n', 'SEX_F',\n",
      "       'SEX_M', 'AGE_n', 'JOB_TYPE_n', 'DEPENDENTS_n', 'TELEPHONE_n',\n",
      "       'EMPLOYMENT_DURATION_n', 'CURRENT_RESIDENCE_DURATION_n',\n",
      "       'CHECKING_BALANCE_n2', 'EXISTING_SAVINGS_n', 'EXISTING_CREDITS_COUNT_n',\n",
      "       'INSTALLMENT_PLANS_n_BANK', 'INSTALLMENT_PLANS_n_NONE',\n",
      "       'INSTALLMENT_PLANS_n_STORES', 'LOAN_PURPOSE_n_APPLIANCES',\n",
      "       'LOAN_PURPOSE_n_CAR_NEW', 'LOAN_PURPOSE_n_CAR_USED',\n",
      "       'LOAN_PURPOSE_n_FURNITURE', 'LOAN_PURPOSE_n_RADIO_TV',\n",
      "       'OTHERS_ON_LOAN_n_NONE', 'PROPERTY_n_CAR_OTHER',\n",
      "       'PROPERTY_n_REAL_ESTATE', 'PROPERTY_n_SAVINGS_INSURANCE',\n",
      "       'PROPERTY_n_UNKNOWN', 'HOUSING_n_FREE', 'HOUSING_n_OWN',\n",
      "       'HOUSING_n_RENT', 'CREDIT_HISTORY_n_CREDITS_PAID_TO_DATE',\n",
      "       'CREDIT_HISTORY_n_PRIOR_PAYMENTS_DELAYED'],\n",
      "      dtype='object')\n"
     ]
    }
   ],
   "source": [
    "from sklearn.feature_selection import RFECV\n",
    "# The \"accuracy\" scoring is proportional to the number of correct classifications\n",
    "clf_rf_4 = RandomForestClassifier() \n",
    "rfecv = RFECV(estimator=clf_rf_4, step=1, cv=5,scoring='accuracy')   #5-fold cross-validation\n",
    "rfecv = rfecv.fit(X_train, Y_train)\n",
    "print('Optimal number of features :', rfecv.n_features_)\n",
    "print('Best features :', X_train.columns[rfecv.support_])"
   ]
  },
  {
   "cell_type": "code",
   "execution_count": 183,
   "metadata": {},
   "outputs": [
    {
     "name": "stderr",
     "output_type": "stream",
     "text": [
      "C:\\Users\\a362014\\AppData\\Local\\Packages\\PythonSoftwareFoundation.Python.3.9_qbz5n2kfra8p0\\LocalCache\\local-packages\\Python39\\site-packages\\sklearn\\utils\\deprecation.py:103: FutureWarning: The `grid_scores_` attribute is deprecated in version 1.0 in favor of `cv_results_` and will be removed in version 1.2.\n",
      "  warnings.warn(msg, category=FutureWarning)\n"
     ]
    },
    {
     "data": {
      "image/png": "[encoded data removed]",
      "text/plain": [
       "<Figure size 432x288 with 1 Axes>"
      ]
     },
     "metadata": {
      "needs_background": "light"
     },
     "output_type": "display_data"
    }
   ],
   "source": [
    "plt.figure()\n",
    "plt.xlabel(\"Number of features selected\")\n",
    "plt.ylabel(\"Cross validation score of number of selected features\")\n",
    "plt.plot(range(1, len(rfecv.grid_scores_) + 1), rfecv.grid_scores_)\n",
    "plt.show()"
   ]
  },
  {
   "cell_type": "code",
   "execution_count": 184,
   "metadata": {},
   "outputs": [
    {
     "name": "stdout",
     "output_type": "stream",
     "text": [
      "Feature ranking:\n",
      "1. feature 5 (0.100215)\n",
      "2. feature 11 (0.097144)\n",
      "3. feature 0 (0.092621)\n",
      "4. feature 2 (0.089245)\n",
      "5. feature 10 (0.077441)\n",
      "6. feature 1 (0.055099)\n",
      "7. feature 33 (0.041279)\n",
      "8. feature 13 (0.038139)\n",
      "9. feature 31 (0.035715)\n",
      "10. feature 12 (0.033498)\n",
      "11. feature 34 (0.031163)\n",
      "12. feature 14 (0.025835)\n",
      "13. feature 6 (0.023270)\n",
      "14. feature 4 (0.021966)\n",
      "15. feature 37 (0.019691)\n",
      "16. feature 38 (0.016547)\n",
      "17. feature 8 (0.016525)\n",
      "18. feature 32 (0.016096)\n",
      "19. feature 3 (0.013248)\n",
      "20. feature 17 (0.011260)\n",
      "21. feature 21 (0.010876)\n",
      "22. feature 23 (0.010469)\n",
      "23. feature 25 (0.009517)\n",
      "24. feature 35 (0.009440)\n",
      "25. feature 40 (0.009392)\n",
      "26. feature 20 (0.009277)\n",
      "27. feature 43 (0.008396)\n",
      "28. feature 16 (0.008371)\n",
      "29. feature 7 (0.008188)\n",
      "30. feature 18 (0.006849)\n",
      "31. feature 36 (0.006527)\n",
      "32. feature 15 (0.006374)\n",
      "33. feature 29 (0.005661)\n",
      "34. feature 42 (0.005520)\n",
      "35. feature 19 (0.005014)\n",
      "36. feature 39 (0.004108)\n",
      "37. feature 26 (0.003971)\n",
      "38. feature 27 (0.003479)\n",
      "39. feature 22 (0.003050)\n",
      "40. feature 9 (0.002919)\n",
      "41. feature 28 (0.002751)\n",
      "42. feature 24 (0.002014)\n",
      "43. feature 30 (0.001480)\n",
      "44. feature 41 (0.000359)\n"
     ]
    }
   ],
   "source": [
    "clf_rf_5 = RandomForestClassifier()      \n",
    "clr_rf_5 = clf_rf_5.fit(X_train,Y_train)\n",
    "importances = clr_rf_5.feature_importances_\n",
    "std = np.std([tree.feature_importances_ for tree in clr_rf_5.estimators_],\n",
    "             axis=0)\n",
    "indices = np.argsort(importances)[::-1]\n",
    "# Print the feature ranking\n",
    "print(\"Feature ranking:\")\n",
    "for f in range(X_train.shape[1]):\n",
    "    print(\"%d. feature %d (%f)\" % (f + 1, indices[f], importances[indices[f]]))"
   ]
  },
  {
   "cell_type": "code",
   "execution_count": 185,
   "metadata": {},
   "outputs": [
    {
     "data": {
      "image/png": "[encoded data removed]",
      "text/plain": [
       "<Figure size 1008x936 with 1 Axes>"
      ]
     },
     "metadata": {
      "needs_background": "light"
     },
     "output_type": "display_data"
    }
   ],
   "source": [
    "# Plot the feature importances of the forest\n",
    "plt.figure(1, figsize=(14, 13))\n",
    "plt.title(\"Feature importances\")\n",
    "plt.bar(range(X_train.shape[1]), importances[indices],  color=\"g\", yerr=std[indices], align=\"center\")\n",
    "plt.xticks(range(X_train.shape[1]), X_train.columns[indices],rotation=90)\n",
    "plt.xlim([-1, X_train.shape[1]])\n",
    "plt.show()"
   ]
  },
  {
   "cell_type": "code",
   "execution_count": 87,
   "metadata": {},
   "outputs": [
    {
     "data": {
      "text/plain": [
       "Text(0, 0.5, 'Variance Ratio Explained')"
      ]
     },
     "execution_count": 87,
     "metadata": {},
     "output_type": "execute_result"
    },
    {
     "data": {
      "image/png": "[encoded data removed]",
      "text/plain": [
       "<Figure size 648x432 with 1 Axes>"
      ]
     },
     "metadata": {
      "needs_background": "light"
     },
     "output_type": "display_data"
    }
   ],
   "source": [
    "# split data train 70 % and test 30 %\n",
    "x_train, x_test, y_train, y_test = train_test_split(X, y, test_size=0.3, random_state=42)\n",
    "#normalization\n",
    "x_train_N = (x_train-x_train.mean())/(x_train.max()-x_train.min())\n",
    "x_test_N = (x_test-x_test.mean())/(x_test.max()-x_test.min())\n",
    "from sklearn.decomposition import PCA\n",
    "pca = PCA()\n",
    "pca.fit(x_train_N)\n",
    "plt.figure(1, figsize=(9, 6))\n",
    "plt.clf()\n",
    "plt.axes([.2, .2, .7, .7])\n",
    "plt.plot(pca.explained_variance_ratio_, linewidth=2)\n",
    "plt.axis('tight')\n",
    "plt.xlabel('Number of components')\n",
    "plt.ylabel('Variance Ratio Explained')"
   ]
  },
  {
   "cell_type": "markdown",
   "metadata": {},
   "source": [
    "## Criação do modelo\n",
    "\n",
    "Com os dados prontos, podemos selecionar um modelo de Machine Learning para treinar com nossos dados. Nesse exemplo, vamos utilizar um modelo de classificação básico, o de Árvore de Decisão.\n",
    "\n",
    "Para conseguir avaliar o desempenho do nosso modelo, vamos dividir os dados que temos entre dados de treino e de teste, e assim, após o treinamento, verificar como ele está se saindo com as predições."
   ]
  },
  {
   "cell_type": "code",
   "execution_count": 220,
   "metadata": {},
   "outputs": [],
   "source": [
    "from sklearn.tree import DecisionTreeClassifier, plot_tree\n",
    "from sklearn.model_selection import train_test_split, cross_val_score\n",
    "from sklearn.metrics import accuracy_score, confusion_matrix, plot_confusion_matrix, ConfusionMatrixDisplay, mean_squared_error, mean_absolute_error, classification_report\n",
    "from sklearn.ensemble import RandomForestClassifier\n",
    "from sklearn.linear_model import LogisticRegression"
   ]
  },
  {
   "cell_type": "markdown",
   "metadata": {},
   "source": [
    "Abaixo, separamos os dados que queremos predizer dos dados que utilizamos como informações para a predição."
   ]
  },
  {
   "cell_type": "code",
   "execution_count": 221,
   "metadata": {},
   "outputs": [],
   "source": [
    "# Original\n",
    "# features = ['PAYMENT_TERM_n', 'INSTALLMENT_PERCENT_n', 'LOAN_AMOUNT_n','SEX_F','SEX_M',\n",
    "#        'AGE_n', 'JOB_TYPE_n', 'DEPENDENTS_n', 'TELEPHONE_n',\n",
    "#        'FOREIGN_WORKER_n', 'EMPLOYMENT_DURATION_n',\n",
    "#        'CURRENT_RESIDENCE_DURATION_n', 'CHECKING_BALANCE_n2',\n",
    "#        'EXISTING_SAVINGS_n', 'EXISTING_CREDITS_COUNT_n',\n",
    "#        'INSTALLMENT_PLANS_n_BANK', 'INSTALLMENT_PLANS_n_NONE',\n",
    "#        'INSTALLMENT_PLANS_n_STORES', 'LOAN_PURPOSE_n_APPLIANCES',\n",
    "#        'LOAN_PURPOSE_n_BUSINESS', 'LOAN_PURPOSE_n_CAR_NEW',\n",
    "#        'LOAN_PURPOSE_n_CAR_USED', 'LOAN_PURPOSE_n_EDUCATION',\n",
    "#        'LOAN_PURPOSE_n_FURNITURE', 'LOAN_PURPOSE_n_NONE',\n",
    "#        'LOAN_PURPOSE_n_OTHER', 'LOAN_PURPOSE_n_RADIO_TV',\n",
    "#        'LOAN_PURPOSE_n_REPAIRS', 'LOAN_PURPOSE_n_RETRAINING',\n",
    "#        'LOAN_PURPOSE_n_VACATION', 'OTHERS_ON_LOAN_n_CO-APPLICANT',\n",
    "#        'OTHERS_ON_LOAN_n_GUARANTOR', 'OTHERS_ON_LOAN_n_NONE',\n",
    "#        'PROPERTY_n_CAR_OTHER', 'PROPERTY_n_REAL_ESTATE',\n",
    "#        'PROPERTY_n_SAVINGS_INSURANCE', 'PROPERTY_n_UNKNOWN', 'HOUSING_n_FREE',\n",
    "#        'HOUSING_n_OWN', 'HOUSING_n_RENT', 'HOUSING_n_UNKNOWN',\n",
    "#        'CREDIT_HISTORY_n_ALL_CREDITS_PAID_BACK',\n",
    "#        'CREDIT_HISTORY_n_CREDITS_PAID_TO_DATE', 'CREDIT_HISTORY_n_NO_CREDITS',\n",
    "#        'CREDIT_HISTORY_n_OUTSTANDING_CREDIT',\n",
    "#        'CREDIT_HISTORY_n_PRIOR_PAYMENTS_DELAYED', 'CREDIT_HISTORY_n_UNKNOWN']\n",
    "\n",
    "# 2o\n",
    "# features = ['PAYMENT_TERM_n', 'INSTALLMENT_PERCENT_n', 'LOAN_AMOUNT_n','SEX_F','SEX_M',\n",
    "#        'AGE_n', 'JOB_TYPE_n', 'DEPENDENTS_n', 'TELEPHONE_n',\n",
    "#        'FOREIGN_WORKER_n', 'EMPLOYMENT_DURATION_n',\n",
    "#        'CURRENT_RESIDENCE_DURATION_n', 'CHECKING_BALANCE_n2',\n",
    "#        'EXISTING_SAVINGS_n', 'EXISTING_CREDITS_COUNT_n',\n",
    "#        'INSTALLMENT_PLANS_n_BANK', 'INSTALLMENT_PLANS_n_NONE',\n",
    "#        'INSTALLMENT_PLANS_n_STORES', 'LOAN_PURPOSE_n_APPLIANCES',\n",
    "#        'LOAN_PURPOSE_n_BUSINESS', 'LOAN_PURPOSE_n_CAR_NEW',\n",
    "#        'LOAN_PURPOSE_n_CAR_USED', 'LOAN_PURPOSE_n_EDUCATION',\n",
    "#        'LOAN_PURPOSE_n_FURNITURE', \n",
    "#        'LOAN_PURPOSE_n_OTHER', 'LOAN_PURPOSE_n_RADIO_TV',\n",
    "#        'LOAN_PURPOSE_n_REPAIRS', 'LOAN_PURPOSE_n_RETRAINING',\n",
    "#        'LOAN_PURPOSE_n_VACATION', 'OTHERS_ON_LOAN_n_CO-APPLICANT',\n",
    "#        'OTHERS_ON_LOAN_n_GUARANTOR', 'OTHERS_ON_LOAN_n_NONE',\n",
    "#        'PROPERTY_n_CAR_OTHER', 'PROPERTY_n_REAL_ESTATE',\n",
    "#        'PROPERTY_n_SAVINGS_INSURANCE', 'PROPERTY_n_UNKNOWN', 'HOUSING_n_FREE',\n",
    "#        'HOUSING_n_OWN', 'HOUSING_n_RENT', \n",
    "#        'CREDIT_HISTORY_n_ALL_CREDITS_PAID_BACK',\n",
    "#        'CREDIT_HISTORY_n_CREDITS_PAID_TO_DATE', 'CREDIT_HISTORY_n_NO_CREDITS',\n",
    "#        'CREDIT_HISTORY_n_OUTSTANDING_CREDIT',\n",
    "#        'CREDIT_HISTORY_n_PRIOR_PAYMENTS_DELAYED']\n",
    "\n",
    "\n",
    "features = ['PAYMENT_TERM_n', 'INSTALLMENT_PERCENT_n', 'LOAN_AMOUNT_n','SEX_F','SEX_M',\n",
    "       'AGE_n', 'JOB_TYPE_n', 'DEPENDENTS_n', 'TELEPHONE_n',\n",
    "       'EMPLOYMENT_DURATION_n',\n",
    "       'CURRENT_RESIDENCE_DURATION_n', 'CHECKING_BALANCE_n2',\n",
    "       'EXISTING_SAVINGS_n', 'EXISTING_CREDITS_COUNT_n',\n",
    "       'INSTALLMENT_PLANS_n_BANK', 'INSTALLMENT_PLANS_n_NONE',\n",
    "       'INSTALLMENT_PLANS_n_STORES', 'LOAN_PURPOSE_n_APPLIANCES',\n",
    "       'LOAN_PURPOSE_n_BUSINESS', 'LOAN_PURPOSE_n_CAR_NEW',\n",
    "       'LOAN_PURPOSE_n_CAR_USED', 'LOAN_PURPOSE_n_EDUCATION',\n",
    "       'LOAN_PURPOSE_n_FURNITURE', \n",
    "       'LOAN_PURPOSE_n_RADIO_TV',\n",
    "       'LOAN_PURPOSE_n_REPAIRS', 'LOAN_PURPOSE_n_RETRAINING',\n",
    "       'OTHERS_ON_LOAN_n_CO-APPLICANT',\n",
    "       'OTHERS_ON_LOAN_n_NONE',\n",
    "       'PROPERTY_n_CAR_OTHER', 'PROPERTY_n_REAL_ESTATE',\n",
    "       'PROPERTY_n_SAVINGS_INSURANCE', 'PROPERTY_n_UNKNOWN', 'HOUSING_n_FREE',\n",
    "       'HOUSING_n_OWN', 'HOUSING_n_RENT', \n",
    "       'CREDIT_HISTORY_n_ALL_CREDITS_PAID_BACK',\n",
    "       'CREDIT_HISTORY_n_CREDITS_PAID_TO_DATE', \n",
    "       'CREDIT_HISTORY_n_OUTSTANDING_CREDIT',\n",
    "       'CREDIT_HISTORY_n_PRIOR_PAYMENTS_DELAYED']\n",
    "\n",
    "target = ['ALLOW']\n",
    "\n",
    "# X = clean_df[features]\n",
    "# y = clean_df[target]\n",
    "X = temp_n[features]\n",
    "y = temp_n[target]\n"
   ]
  },
  {
   "cell_type": "code",
   "execution_count": 222,
   "metadata": {},
   "outputs": [],
   "source": [
    "y = np.ravel(y)"
   ]
  },
  {
   "cell_type": "code",
   "execution_count": 212,
   "metadata": {},
   "outputs": [],
   "source": [
    "test_pct = 0.3 # Separaremos 30% dos dados para testes\n",
    "X_train, X_test, y_train, y_test = train_test_split(X, y, test_size=test_pct, random_state=42, stratify=y)"
   ]
  },
  {
   "cell_type": "code",
   "execution_count": 213,
   "metadata": {},
   "outputs": [],
   "source": [
    "from imblearn.over_sampling import SMOTE as Smote\n",
    "smt = Smote(random_state=42)\n",
    "X_train, y_train = smt.fit_resample(X_train, y_train)"
   ]
  },
  {
   "cell_type": "code",
   "execution_count": 214,
   "metadata": {},
   "outputs": [
    {
     "name": "stdout",
     "output_type": "stream",
     "text": [
      "Acurácia do modelo (número de predições assertivas sobre número total de testes): 0.7959183673469388\n"
     ]
    }
   ],
   "source": [
    "model = RandomForestClassifier(n_estimators=1000, min_samples_leaf=1, max_features='auto',\n",
    "                            random_state=42, n_jobs=11, criterion='entropy', max_depth=22)\n",
    "\n",
    "# model = RandomForestClassifier(n_estimators=1000, min_samples_leaf=2, max_features=\"log2\",\n",
    "#                             random_state=42, n_jobs=11, criterion='entropy')\n",
    "\n",
    "# model = LogisticRegression(solver='lbfgs', max_iter=4000)\n",
    "\n",
    "# model = DecisionTreeClassifier(random_state=42)\n",
    "\n",
    "model.fit(X_train, y_train)\n",
    "\n",
    "y_pred = model.predict(X_test)\n",
    "acc = accuracy_score(y_test, y_pred)\n",
    "print(f\"Acurácia do modelo (número de predições assertivas sobre número total de testes): {acc}\")"
   ]
  },
  {
   "cell_type": "code",
   "execution_count": 191,
   "metadata": {},
   "outputs": [
    {
     "name": "stdout",
     "output_type": "stream",
     "text": [
      "Acurácia do modelo (com cross validate): 0.837488333584224\n"
     ]
    }
   ],
   "source": [
    "from sklearn.model_selection import cross_val_score\n",
    "acc_cv = cross_val_score(model,X_train, y_train,cv=10)\n",
    "print(f\"Acurácia do modelo (com cross validate): {acc_cv.mean()}\")\n",
    "\n",
    "# np.sqrt(mean_squared_error(y_test, y_pred))"
   ]
  },
  {
   "cell_type": "code",
   "execution_count": 192,
   "metadata": {},
   "outputs": [
    {
     "name": "stdout",
     "output_type": "stream",
     "text": [
      "Accuracy score = 0.7959183673469388\n",
      "Mean absolute error = 0.20408163265306123\n"
     ]
    },
    {
     "data": {
      "image/png": "[encoded data removed]",
      "text/plain": [
       "<Figure size 432x288 with 2 Axes>"
      ]
     },
     "metadata": {
      "needs_background": "light"
     },
     "output_type": "display_data"
    },
    {
     "name": "stdout",
     "output_type": "stream",
     "text": [
      "              precision    recall  f1-score   support\n",
      "\n",
      "    No Allow       0.75      0.59      0.66       395\n",
      "       Allow       0.81      0.90      0.85       781\n",
      "\n",
      "    accuracy                           0.80      1176\n",
      "   macro avg       0.78      0.75      0.76      1176\n",
      "weighted avg       0.79      0.80      0.79      1176\n",
      "\n"
     ]
    }
   ],
   "source": [
    "# Estimativa da acurácia no conjunto de teste\n",
    "predictions = model.predict(X_test)\n",
    "print(f'Accuracy score = {accuracy_score(y_test, predictions)}')\n",
    "print(f'Mean absolute error = {mean_absolute_error(y_test, predictions)}')\n",
    "\n",
    "# Matriz de confusão\n",
    "cm = confusion_matrix(y_test, predictions)\n",
    "labels = ['No Allow', 'Allow']\n",
    "cmd = ConfusionMatrixDisplay(cm, display_labels=labels)\n",
    "cmd.plot(values_format='d')\n",
    "plt.show()\n",
    "print(classification_report(y_test, predictions, target_names=labels))\n",
    "\n",
    "# ConfusionMatrixDisplay.from_estimator(model, X_test, y_test, display_labels=[\"No Allow\", \"Allow\"])"
   ]
  },
  {
   "cell_type": "markdown",
   "metadata": {},
   "source": [
    "### Geração do resultado\n",
    "É preciso rodar tudo de novo, trocando:\n",
    "clean_df = result.copy()"
   ]
  },
  {
   "cell_type": "code",
   "execution_count": null,
   "metadata": {},
   "outputs": [],
   "source": [
    "y_result = model.predict(X)\n",
    "np.bincount(y_result)\n",
    "final = result.copy()\n",
    "final['ALLOW'] = y_result\n",
    "final.to_csv('final.csv', index=False)"
   ]
  }
 ],
 "metadata": {
  "kernelspec": {
   "display_name": "Python 3.8",
   "language": "python",
   "name": "python3"
  },
  "language_info": {
   "codemirror_mode": {
    "name": "ipython",
    "version": 3
   },
   "file_extension": ".py",
   "mimetype": "text/x-python",
   "name": "python",
   "nbconvert_exporter": "python",
   "pygments_lexer": "ipython3",
   "version": "3.9.7"
  }
 },
 "nbformat": 4,
 "nbformat_minor": 1
}
