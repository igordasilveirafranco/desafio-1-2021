{
 "cells": [
  {
   "cell_type": "code",
   "execution_count": 34,
   "metadata": {},
   "outputs": [],
   "source": [
    "import numpy as np\n",
    "import pandas as pd\n",
    "import matplotlib.pyplot as plt\n",
    "import seaborn as sns"
   ]
  },
  {
   "cell_type": "code",
   "execution_count": 27,
   "metadata": {},
   "outputs": [],
   "source": [
    "account = pd.read_csv(\"..\\data\\ACCOUNTS.csv\")\n",
    "loans = pd.read_csv(\"..\\data\\loans.csv\")"
   ]
  },
  {
   "cell_type": "code",
   "execution_count": null,
   "metadata": {},
   "outputs": [],
   "source": [
    "loans_clean = loans[['ID','ALLOW']]\n",
    "account_clean = account[['ID','CHECKING_BALANCE']]\n",
    "merged = account_clean.merge(loans_clean, how='left')\n",
    "\n",
    "# sem_no_checking = merged['CHECKING_BALANCE'] != \"NO_CHECKING\"\n",
    "# print(list(merged))\n",
    "# merged.head()\n",
    "\n",
    "# print(list(sem_no_checking))\n",
    "# sem_no_checking.head()\n"
   ]
  },
  {
   "cell_type": "code",
   "execution_count": null,
   "metadata": {},
   "outputs": [],
   "source": [
    "\n",
    "# type(mylist)\n",
    "# list(mylist)\n",
    "# mylist = np.random.randn(10, 1000).cumsum(axis=1).ravel() / 500\n",
    "# step = 0.01\n",
    "# start = np.floor(min(mylist) / step) * step\n",
    "# stop = max(mylist) + step\n",
    "# bin_edges = np.arange(start, stop, step=step)\n",
    "# plt.hist(mylist, bins=bin_edges, color='crimson', ec='white')\n",
    "# plt.xticks(bin_edges, rotation=90)\n",
    "# plt.tight_layout()\n",
    "# plt.show()"
   ]
  }
 ],
 "metadata": {
  "interpreter": {
   "hash": "5768b446dddade2cb79ed0447ec549b2d93198858daeef376aa9ae96b41a1e93"
  },
  "kernelspec": {
   "display_name": "Python 3.9.7 64-bit (windows store)",
   "language": "python",
   "name": "python3"
  },
  "language_info": {
   "codemirror_mode": {
    "name": "ipython",
    "version": 3
   },
   "file_extension": ".py",
   "mimetype": "text/x-python",
   "name": "python",
   "nbconvert_exporter": "python",
   "pygments_lexer": "ipython3",
   "version": "3.9.7"
  },
  "orig_nbformat": 4
 },
 "nbformat": 4,
 "nbformat_minor": 2
}
